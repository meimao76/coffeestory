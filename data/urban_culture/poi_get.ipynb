{
 "cells": [
  {
   "cell_type": "markdown",
   "id": "c6d81fe8",
   "metadata": {},
   "source": [
    "# 配置虚拟环境+导入相关库"
   ]
  },
  {
   "cell_type": "markdown",
   "id": "1cbaa3dd",
   "metadata": {},
   "source": [
    "创建了一个虚拟环境，这样某些相关库不会报错\n",
    "相关配置见 requirement.txt"
   ]
  },
  {
   "cell_type": "code",
   "execution_count": 1,
   "id": "baac5418",
   "metadata": {},
   "outputs": [
    {
     "name": "stdout",
     "output_type": "stream",
     "text": [
      "e:\\study\\CASAterm2\\CASA0003\\groupwork\\coffeestory\\.venv\\Scripts\\python.exe\n"
     ]
    }
   ],
   "source": [
    "import sys\n",
    "print(sys.executable)"
   ]
  },
  {
   "cell_type": "code",
   "execution_count": 2,
   "id": "2c622ef9",
   "metadata": {},
   "outputs": [],
   "source": [
    "import osmnx as ox\n",
    "import geopandas as gpd"
   ]
  },
  {
   "cell_type": "code",
   "execution_count": 3,
   "id": "16b8e17a",
   "metadata": {},
   "outputs": [],
   "source": [
    "import pandas as pd"
   ]
  },
  {
   "cell_type": "markdown",
   "id": "d32ef93e",
   "metadata": {},
   "source": [
    "# get poi"
   ]
  },
  {
   "cell_type": "code",
   "execution_count": 3,
   "id": "f6c7aab7",
   "metadata": {},
   "outputs": [],
   "source": [
    "# 定义城市列表\n",
    "cities = {\n",
    "    \"Tokyo\": \"Tokyo, Japan\",\n",
    "    \"Melbourne\": \"Melbourne, Australia\",\n",
    "    \"Rome\": \"Rome, Italy\",\n",
    "    \"Guangzhou\": \"Guangzhou, China\"\n",
    "}"
   ]
  },
  {
   "cell_type": "code",
   "execution_count": 4,
   "id": "d5fa9272",
   "metadata": {},
   "outputs": [
    {
     "name": "stdout",
     "output_type": "stream",
     "text": [
      "Fetching cafes in Tokyo...\n"
     ]
    },
    {
     "name": "stderr",
     "output_type": "stream",
     "text": [
      "C:\\Users\\10851\\AppData\\Local\\Temp\\ipykernel_27476\\30475318.py:4: UserWarning: The `geometries` module and `geometries_from_X` functions have been renamed the `features` module and `features_from_X` functions. Use these instead. The `geometries` module and function names are deprecated and will be removed in a future release.\n",
      "  cafes = ox.geometries_from_place(city_query, tags={\"amenity\": \"cafe\"})\n"
     ]
    },
    {
     "name": "stdout",
     "output_type": "stream",
     "text": [
      "Fetching cafes in Melbourne...\n"
     ]
    },
    {
     "name": "stderr",
     "output_type": "stream",
     "text": [
      "C:\\Users\\10851\\AppData\\Local\\Temp\\ipykernel_27476\\30475318.py:4: UserWarning: The `geometries` module and `geometries_from_X` functions have been renamed the `features` module and `features_from_X` functions. Use these instead. The `geometries` module and function names are deprecated and will be removed in a future release.\n",
      "  cafes = ox.geometries_from_place(city_query, tags={\"amenity\": \"cafe\"})\n"
     ]
    },
    {
     "name": "stdout",
     "output_type": "stream",
     "text": [
      "Fetching cafes in Rome...\n"
     ]
    },
    {
     "name": "stderr",
     "output_type": "stream",
     "text": [
      "C:\\Users\\10851\\AppData\\Local\\Temp\\ipykernel_27476\\30475318.py:4: UserWarning: The `geometries` module and `geometries_from_X` functions have been renamed the `features` module and `features_from_X` functions. Use these instead. The `geometries` module and function names are deprecated and will be removed in a future release.\n",
      "  cafes = ox.geometries_from_place(city_query, tags={\"amenity\": \"cafe\"})\n"
     ]
    },
    {
     "name": "stdout",
     "output_type": "stream",
     "text": [
      "Fetching cafes in Guangzhou...\n"
     ]
    },
    {
     "name": "stderr",
     "output_type": "stream",
     "text": [
      "C:\\Users\\10851\\AppData\\Local\\Temp\\ipykernel_27476\\30475318.py:4: UserWarning: The `geometries` module and `geometries_from_X` functions have been renamed the `features` module and `features_from_X` functions. Use these instead. The `geometries` module and function names are deprecated and will be removed in a future release.\n",
      "  cafes = ox.geometries_from_place(city_query, tags={\"amenity\": \"cafe\"})\n"
     ]
    },
    {
     "name": "stdout",
     "output_type": "stream",
     "text": [
      "All city POI saved!\n"
     ]
    }
   ],
   "source": [
    "for city_name, city_query in cities.items():\n",
    "    print(f\"Fetching cafes in {city_name}...\")\n",
    "    \n",
    "    cafes = ox.geometries_from_place(city_query, tags={\"amenity\": \"cafe\"})\n",
    "    cafes = cafes[[\"name\", \"geometry\", \"amenity\"]].copy()\n",
    "    cafes[\"city\"] = city_name\n",
    "\n",
    "    cafes.to_file(f\"{city_name.lower()}_cafes.geojson\", driver=\"GeoJSON\")\n",
    "\n",
    "print(\"All city POI saved!\")"
   ]
  },
  {
   "cell_type": "code",
   "execution_count": 9,
   "id": "bbab1db3",
   "metadata": {},
   "outputs": [
    {
     "name": "stdout",
     "output_type": "stream",
     "text": [
      "         Tokyo  Melbourne  Rome  Guangzhou\n",
      "Point     4557       2521  1989        342\n",
      "Polygon    144        432   124          9\n"
     ]
    }
   ],
   "source": [
    "# 文件路径字典\n",
    "files = {\n",
    "    \"Tokyo\": \"tokyo_cafes.geojson\",\n",
    "    \"Melbourne\": \"melbourne_cafes.geojson\",\n",
    "    \"Rome\": \"rome_cafes.geojson\",\n",
    "    \"Guangzhou\": \"guangzhou_cafes.geojson\"\n",
    "}\n",
    "\n",
    "# 初始化结果容器\n",
    "geometry_summary = {}\n",
    "\n",
    "# 遍历每个城市并统计几何类型\n",
    "for city, filepath in files.items():\n",
    "    gdf = gpd.read_file(filepath)\n",
    "    geom_counts = gdf.geometry.geom_type.value_counts()\n",
    "    geometry_summary[city] = geom_counts\n",
    "\n",
    "# 整理成 DataFrame 展示\n",
    "summary_df = pd.DataFrame(geometry_summary).fillna(0).astype(int)\n",
    "print(summary_df)"
   ]
  },
  {
   "cell_type": "code",
   "execution_count": 11,
   "id": "65d2d484",
   "metadata": {},
   "outputs": [
    {
     "name": "stdout",
     "output_type": "stream",
     "text": [
      "Empty DataFrame\n",
      "Columns: [name_left, name_right]\n",
      "Index: []\n"
     ]
    }
   ],
   "source": [
    "# 分离 point 和 polygon\n",
    "points = gdf[gdf.geometry.geom_type == \"Point\"]\n",
    "polygons = gdf[gdf.geometry.geom_type == \"Polygon\"]\n",
    "\n",
    "points = points.to_crs(epsg=4326)\n",
    "polygons = polygons.to_crs(epsg=4326)\n",
    "\n",
    "# 找出所有点在某个多边形内的情况\n",
    "joined = gpd.sjoin(points, polygons, how=\"inner\", predicate=\"within\")\n",
    "\n",
    "# 输出可能重复或重合的项\n",
    "print(joined[[\"name_left\", \"name_right\"]])\n"
   ]
  },
  {
   "cell_type": "code",
   "execution_count": 12,
   "id": "187a6a15",
   "metadata": {},
   "outputs": [
    {
     "name": "stdout",
     "output_type": "stream",
     "text": [
      "    element_type       osmid    name amenity       city  \\\n",
      "6            way  1237736430     咖啡厅    cafe  Guangzhou   \n",
      "138          way  1144924594  家·湾区书屋    cafe  Guangzhou   \n",
      "139          way  1380577122      茶饮    cafe  Guangzhou   \n",
      "140          way  1380581973   王者奶茶店    cafe  Guangzhou   \n",
      "145          way   180524998    今啡昔笔    cafe  Guangzhou   \n",
      "\n",
      "                                              geometry  \n",
      "6    POLYGON ((113.64734 22.62422, 113.64750 22.624...  \n",
      "138  POLYGON ((113.33586 23.12288, 113.33586 23.122...  \n",
      "139  POLYGON ((113.40090 22.95314, 113.40118 22.953...  \n",
      "140  POLYGON ((113.40482 22.95163, 113.40507 22.951...  \n",
      "145  POLYGON ((113.48945 23.45412, 113.48959 23.453...  \n"
     ]
    }
   ],
   "source": [
    "# 筛选 Polygon 类型数据\n",
    "polygons = gdf[gdf.geometry.geom_type == \"Polygon\"]\n",
    "\n",
    "# 查看其属性列（不包含 geometry）和前几行内容\n",
    "print(polygons.head())\n"
   ]
  },
  {
   "cell_type": "code",
   "execution_count": 13,
   "id": "dae593cc",
   "metadata": {},
   "outputs": [
    {
     "name": "stdout",
     "output_type": "stream",
     "text": [
      "正在处理：Tokyo\n"
     ]
    },
    {
     "name": "stderr",
     "output_type": "stream",
     "text": [
      "C:\\Users\\10851\\AppData\\Local\\Temp\\ipykernel_25216\\1065328155.py:12: UserWarning: Geometry is in a geographic CRS. Results from 'centroid' are likely incorrect. Use 'GeoSeries.to_crs()' to re-project geometries to a projected CRS before this operation.\n",
      "\n",
      "  polygons[\"geometry\"] = polygons.centroid\n"
     ]
    },
    {
     "name": "stdout",
     "output_type": "stream",
     "text": [
      "✅ Tokyo 处理完成，共 4701 条记录\n",
      "\n",
      "正在处理：Melbourne\n"
     ]
    },
    {
     "name": "stderr",
     "output_type": "stream",
     "text": [
      "C:\\Users\\10851\\AppData\\Local\\Temp\\ipykernel_25216\\1065328155.py:12: UserWarning: Geometry is in a geographic CRS. Results from 'centroid' are likely incorrect. Use 'GeoSeries.to_crs()' to re-project geometries to a projected CRS before this operation.\n",
      "\n",
      "  polygons[\"geometry\"] = polygons.centroid\n"
     ]
    },
    {
     "name": "stdout",
     "output_type": "stream",
     "text": [
      "✅ Melbourne 处理完成，共 2953 条记录\n",
      "\n",
      "正在处理：Rome\n"
     ]
    },
    {
     "name": "stderr",
     "output_type": "stream",
     "text": [
      "C:\\Users\\10851\\AppData\\Local\\Temp\\ipykernel_25216\\1065328155.py:12: UserWarning: Geometry is in a geographic CRS. Results from 'centroid' are likely incorrect. Use 'GeoSeries.to_crs()' to re-project geometries to a projected CRS before this operation.\n",
      "\n",
      "  polygons[\"geometry\"] = polygons.centroid\n"
     ]
    },
    {
     "name": "stdout",
     "output_type": "stream",
     "text": [
      "✅ Rome 处理完成，共 2113 条记录\n",
      "\n",
      "正在处理：Guangzhou\n",
      "✅ Guangzhou 处理完成，共 351 条记录\n",
      "\n"
     ]
    },
    {
     "name": "stderr",
     "output_type": "stream",
     "text": [
      "C:\\Users\\10851\\AppData\\Local\\Temp\\ipykernel_25216\\1065328155.py:12: UserWarning: Geometry is in a geographic CRS. Results from 'centroid' are likely incorrect. Use 'GeoSeries.to_crs()' to re-project geometries to a projected CRS before this operation.\n",
      "\n",
      "  polygons[\"geometry\"] = polygons.centroid\n"
     ]
    }
   ],
   "source": [
    "for city, path in files.items():\n",
    "    print(f\"正在处理：{city}\")\n",
    "\n",
    "    # 读取数据\n",
    "    gdf = gpd.read_file(path)\n",
    "\n",
    "    # 分离点与面\n",
    "    points = gdf[gdf.geometry.geom_type == \"Point\"]\n",
    "    polygons = gdf[gdf.geometry.geom_type == \"Polygon\"].copy()\n",
    "\n",
    "    # 将面转为质心\n",
    "    polygons[\"geometry\"] = polygons.centroid\n",
    "\n",
    "    # 合并为统一 Point 数据集\n",
    "    unified = pd.concat([points, polygons], ignore_index=True)\n",
    "    unified = unified.set_geometry(\"geometry\")  # 确保几何列正确\n",
    "    unified = unified.to_crs(epsg=4326)         # 保持统一坐标系\n",
    "\n",
    "    # 覆盖保存（可加 backup 步骤）\n",
    "    unified.to_file(path, driver=\"GeoJSON\")\n",
    "\n",
    "    print(f\"✅ {city} 处理完成，共 {len(unified)} 条记录\\n\")"
   ]
  },
  {
   "cell_type": "markdown",
   "id": "841600fb",
   "metadata": {},
   "source": [
    "# get boundary"
   ]
  },
  {
   "cell_type": "code",
   "execution_count": 17,
   "id": "3e6a0f92",
   "metadata": {},
   "outputs": [
    {
     "name": "stdout",
     "output_type": "stream",
     "text": [
      "正在获取 Guangzhou, China 的数据...\n"
     ]
    },
    {
     "name": "stderr",
     "output_type": "stream",
     "text": [
      "C:\\Users\\10851\\AppData\\Local\\Temp\\ipykernel_25216\\2913309053.py:21: UserWarning: The `geometries` module and `geometries_from_X` functions have been renamed the `features` module and `features_from_X` functions. Use these instead. The `geometries` module and function names are deprecated and will be removed in a future release.\n",
      "  admin = ox.geometries_from_place(query, tags={\n"
     ]
    },
    {
     "name": "stdout",
     "output_type": "stream",
     "text": [
      "✅ guangzhou 完成：边界 1, 区划 921\n",
      "\n",
      "正在获取 Melbourne, Australia 的数据...\n"
     ]
    },
    {
     "name": "stderr",
     "output_type": "stream",
     "text": [
      "C:\\Users\\10851\\AppData\\Local\\Temp\\ipykernel_25216\\2913309053.py:21: UserWarning: The `geometries` module and `geometries_from_X` functions have been renamed the `features` module and `features_from_X` functions. Use these instead. The `geometries` module and function names are deprecated and will be removed in a future release.\n",
      "  admin = ox.geometries_from_place(query, tags={\n"
     ]
    },
    {
     "name": "stdout",
     "output_type": "stream",
     "text": [
      "✅ melbourne 完成：边界 1, 区划 616\n",
      "\n",
      "正在获取 Rome, Italy 的数据...\n"
     ]
    },
    {
     "name": "stderr",
     "output_type": "stream",
     "text": [
      "C:\\Users\\10851\\AppData\\Local\\Temp\\ipykernel_25216\\2913309053.py:21: UserWarning: The `geometries` module and `geometries_from_X` functions have been renamed the `features` module and `features_from_X` functions. Use these instead. The `geometries` module and function names are deprecated and will be removed in a future release.\n",
      "  admin = ox.geometries_from_place(query, tags={\n"
     ]
    },
    {
     "name": "stdout",
     "output_type": "stream",
     "text": [
      "✅ rome 完成：边界 1, 区划 292\n",
      "\n",
      "正在获取 Tokyo, Japan 的数据...\n"
     ]
    },
    {
     "name": "stderr",
     "output_type": "stream",
     "text": [
      "C:\\Users\\10851\\AppData\\Local\\Temp\\ipykernel_25216\\2913309053.py:21: UserWarning: The `geometries` module and `geometries_from_X` functions have been renamed the `features` module and `features_from_X` functions. Use these instead. The `geometries` module and function names are deprecated and will be removed in a future release.\n",
      "  admin = ox.geometries_from_place(query, tags={\n"
     ]
    },
    {
     "name": "stdout",
     "output_type": "stream",
     "text": [
      "✅ tokyo 完成：边界 1, 区划 13570\n",
      "\n"
     ]
    }
   ],
   "source": [
    "# 设置不显示下载时的警告\n",
    "ox.settings.log_console = True\n",
    "ox.settings.use_cache = True\n",
    "\n",
    "# 城市名称（OSM 能识别的格式）\n",
    "cities = {\n",
    "    \"guangzhou\": \"Guangzhou, China\",\n",
    "    \"melbourne\": \"Melbourne, Australia\",\n",
    "    \"rome\": \"Rome, Italy\",\n",
    "    \"tokyo\": \"Tokyo, Japan\"\n",
    "}\n",
    "\n",
    "for city_key, query in cities.items():\n",
    "    print(f\"正在获取 {query} 的数据...\")\n",
    "\n",
    "    # 1. 获取城市边界\n",
    "    boundary = ox.geocode_to_gdf(query)\n",
    "    boundary.to_file(f\"{city_key}_boundary.geojson\", driver=\"GeoJSON\")\n",
    "\n",
    "    # 2. 获取城市内的行政区（如区/郊区）\n",
    "    admin = ox.geometries_from_place(query, tags={\n",
    "        \"boundary\": \"administrative\",\n",
    "        \"admin_level\": True\n",
    "    })\n",
    "\n",
    "    # 可选过滤（保留 admin_level 6–10）\n",
    "    admin = admin[admin[\"admin_level\"].isin([\"6\", \"7\", \"8\", \"9\", \"10\"])]\n",
    "    admin = admin.to_crs(epsg=4326)\n",
    "    admin.to_file(f\"{city_key}_admin.geojson\", driver=\"GeoJSON\")\n",
    "\n",
    "    print(f\"✅ {city_key} 完成：边界 {len(boundary)}, 区划 {len(admin)}\\n\")"
   ]
  }
 ],
 "metadata": {
  "kernelspec": {
   "display_name": ".venv",
   "language": "python",
   "name": "python3"
  },
  "language_info": {
   "codemirror_mode": {
    "name": "ipython",
    "version": 3
   },
   "file_extension": ".py",
   "mimetype": "text/x-python",
   "name": "python",
   "nbconvert_exporter": "python",
   "pygments_lexer": "ipython3",
   "version": "3.11.2"
  }
 },
 "nbformat": 4,
 "nbformat_minor": 5
}

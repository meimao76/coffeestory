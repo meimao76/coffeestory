{
 "cells": [
  {
   "cell_type": "markdown",
   "id": "a872a060",
   "metadata": {},
   "source": [
    "# 核密度分析\n",
    "## 导入相关库"
   ]
  },
  {
   "cell_type": "code",
   "execution_count": 1,
   "id": "a8f7264a",
   "metadata": {},
   "outputs": [],
   "source": [
    "import os\n",
    "import json\n",
    "import numpy as np\n",
    "import geopandas as gpd\n",
    "from scipy.stats import gaussian_kde\n",
    "import rasterio\n",
    "from rasterio.transform import from_origin\n",
    "from rasterio.mask import mask\n",
    "from rasterio.warp import calculate_default_transform, reproject, Resampling\n",
    "from rasterio.crs import CRS"
   ]
  },
  {
   "cell_type": "markdown",
   "id": "9946a5e4",
   "metadata": {},
   "source": [
    "## 定义核密度分析函数"
   ]
  },
  {
   "cell_type": "code",
   "execution_count": null,
   "id": "a241213b",
   "metadata": {},
   "outputs": [],
   "source": [
    "def generate_kde(city, boundary_path, points_path, out_dir=\"output\", n_pixels=1000, sigma=1000):\n",
    "    os.makedirs(out_dir, exist_ok=True)\n",
    "    print(f\"🔄 Processing {city}...\")\n",
    "\n",
    "    # 1. 读取数据并投影为 EPSG:3857\n",
    "    boundary = gpd.read_file(boundary_path).to_crs(epsg=3857)\n",
    "    points = gpd.read_file(points_path).to_crs(epsg=3857)\n",
    "    crs_3857 = boundary.crs\n",
    "\n",
    "    # 2. KDE 计算\n",
    "    x = points.geometry.x\n",
    "    y = points.geometry.y\n",
    "    xy = np.vstack([x, y])\n",
    "    kde = gaussian_kde(xy, bw_method=sigma / max(xy.std(axis=1)))\n",
    "\n",
    "    # 3. 创建网格\n",
    "    xmin, ymin, xmax, ymax = boundary.total_bounds\n",
    "    xres = (xmax - xmin) / n_pixels\n",
    "    yres = (ymax - ymin) / n_pixels\n",
    "    xx, yy = np.mgrid[xmin:xmax:n_pixels*1j, ymin:ymax:n_pixels*1j]\n",
    "    positions = np.vstack([xx.ravel(), yy.ravel()])\n",
    "    z = np.reshape(kde(positions).T, xx.shape)\n",
    "    transform = from_origin(xmin, ymax, xres, yres)\n",
    "\n",
    "    # 4. 保存为临时 GeoTIFF（未裁剪）\n",
    "    temp_path = os.path.join(out_dir, f\"{city}_kde_3857.tif\")\n",
    "    with rasterio.open(\n",
    "        temp_path, \"w\",\n",
    "        driver=\"GTiff\",\n",
    "        height=z.shape[0],\n",
    "        width=z.shape[1],\n",
    "        count=1,\n",
    "        dtype=z.dtype,\n",
    "        crs=crs_3857,\n",
    "        transform=transform,\n",
    "    ) as dst:\n",
    "        dst.write(z, 1)\n",
    "\n",
    "    # 5. 裁剪到边界\n",
    "    geometry = [json.loads(boundary.to_json())[\"features\"][0][\"geometry\"]]\n",
    "    with rasterio.open(temp_path) as src:\n",
    "        out_image, out_transform = mask(src, geometry, crop=True)\n",
    "        out_meta = src.meta.copy()\n",
    "        out_meta.update({\n",
    "            \"height\": out_image.shape[1],\n",
    "            \"width\": out_image.shape[2],\n",
    "            \"transform\": out_transform\n",
    "        })\n",
    "        clipped_path = os.path.join(out_dir, f\"{city}_kde_3857_clipped.tif\")\n",
    "        with rasterio.open(clipped_path, \"w\", **out_meta) as dest:\n",
    "            dest.write(out_image)\n",
    "    print(f\"✅ Saved {clipped_path}\")\n",
    "\n",
    "    # 6. 重投影为 EPSG:4326\n",
    "    dst_crs = CRS.from_epsg(4326)\n",
    "    with rasterio.open(clipped_path) as src:\n",
    "        transform, width, height = calculate_default_transform(\n",
    "            src.crs, dst_crs, src.width, src.height, *src.bounds\n",
    "        )\n",
    "        meta = src.meta.copy()\n",
    "        meta.update({\n",
    "            \"crs\": dst_crs,\n",
    "            \"transform\": transform,\n",
    "            \"width\": width,\n",
    "            \"height\": height\n",
    "        })\n",
    "        reprojected_path = os.path.join(out_dir, f\"{city}_kde_4326_clipped.tif\")\n",
    "        with rasterio.open(reprojected_path, \"w\", **meta) as dst:\n",
    "            reproject(\n",
    "                source=rasterio.band(src, 1),\n",
    "                destination=rasterio.band(dst, 1),\n",
    "                src_transform=src.transform,\n",
    "                src_crs=src.crs,\n",
    "                dst_transform=transform,\n",
    "                dst_crs=dst_crs,\n",
    "                resampling=Resampling.bilinear\n",
    "            )\n",
    "    print(f\"🌍 Reprojected and saved: {reprojected_path}\")"
   ]
  },
  {
   "cell_type": "code",
   "execution_count": null,
   "id": "41a1705b",
   "metadata": {},
   "outputs": [],
   "source": [
    "def batch_kde():\n",
    "    city_list = [\"tokyo\", \"melbourne\", \"rome\"]\n",
    "    base = \"urban_data_final\"\n",
    "    for city in city_list:\n",
    "        generate_kde(\n",
    "            city=city,\n",
    "            boundary_path=f\"{base}/{city}_boundary.geojson\",\n",
    "            points_path=f\"{base}/{city}_cafes.geojson\"\n",
    "        )\n",
    "\n",
    "if __name__ == \"__main__\":\n",
    "    batch_kde()"
   ]
  }
 ],
 "metadata": {
  "kernelspec": {
   "display_name": ".venv",
   "language": "python",
   "name": "python3"
  },
  "language_info": {
   "codemirror_mode": {
    "name": "ipython",
    "version": 3
   },
   "file_extension": ".py",
   "mimetype": "text/x-python",
   "name": "python",
   "nbconvert_exporter": "python",
   "pygments_lexer": "ipython3",
   "version": "3.11.2"
  }
 },
 "nbformat": 4,
 "nbformat_minor": 5
}

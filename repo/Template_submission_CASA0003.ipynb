{
 "cells": [
  {
   "cell_type": "markdown",
   "metadata": {},
   "source": [
    "# Coffee Road: From Commodity to Culture \n",
    "### Exploring Global Trade and Urban Networks Through Coffee\n",
    "\n"
   ]
  },
  {
   "cell_type": "markdown",
   "metadata": {},
   "source": [
    "## Table of Contents\n",
    "\n",
    "> *Click any section below to jump directly to it:*\n",
    "\n",
    "- [Project Output Description](#project-output-description)\n",
    "- [Individual Contributions](#individual-contributions)\n",
    "- [Introduction – Coffee as a Global Urban Perspective](#introduction--coffee-as-a-global-urban-perspective)\n",
    "    - [Methodology](#methodology)\n",
    "- [Global Trade – From Colonial Commodity to Cultural Mediator](#global-trade--from-colonial-commodity-to-cultural-mediator)\n",
    "    - [Who grows, and who drinks?](#who-grows-and-who-drinks)\n",
    "    - [Who makes the money?](#who-makes-the-money)\n",
    "    - [Consumption is culture, too.](#consumption-is-culture-too)\n",
    "- [Urban Grounds – Coffee as City Practice](#urban-grounds--coffee-as-city-practice)\n",
    "    - [Tokyo – Precision and Pause](#tokyo--precision-and-pause)\n",
    "    - [Istanbul – Layered Café Histories](#istanbul--layered-café-histories)\n",
    "- [Design and Technical Challenges](#design-and-technical-challenges)\n",
    "    - [Narrative Structure and Page Architecture](#narrative-structure-and-page-architecture)\n",
    "    - [Tools and Visualisation Techniques](#tools-and-visualisation-techniques)\n",
    "    - [Layer Logic and Interaction Design](#layer-logic-and-interaction-design)\n",
    "    - [Technical Challenges and Solutions](#technical-challenges-and-solutions)\n",
    "- [Conclusion – A Global Network in a Cup](#conclusion--a-global-network-in-a-cup)\n",
    "- [Data Sources](#data-sources)\n",
    "- [References](#references)\n"
   ]
  },
  {
   "cell_type": "markdown",
   "metadata": {},
   "source": [
    "## Project Output Description"
   ]
  },
  {
   "cell_type": "markdown",
   "metadata": {},
   "source": [
    "**待最终确认**"
   ]
  },
  {
   "cell_type": "markdown",
   "metadata": {},
   "source": [
    "| **Project Output**         | **Output Description**                                                                 |\n",
    "|---------------------------|----------------------------------------------------------------------------------------|\n",
    "| Project Output Files       | Zip file submitted on Moodle and/or download link emailed to [duncan.a.smith@ucl.ac.uk](mailto:duncan.a.smith@ucl.ac.uk) |\n",
    "| Project Website | [Coffee Story](https://meimao76.github.io/coffeestory/)    |\n",
    "| Github Link| [meimao76/coffeestory](https://github.com/meimao76/coffeestory/) |\n"
   ]
  },
  {
   "cell_type": "markdown",
   "metadata": {},
   "source": [
    "## Individual Contributions"
   ]
  },
  {
   "cell_type": "markdown",
   "metadata": {},
   "source": [
    "| **Task Name**                        | **Major Contributor(s)**          | **Additional Contributor(s)** | **Relevant Report Section(s)** |\n",
    "|-------------------------------------|-----------------------------------|-------------------------------|----------------------------------|\n",
    "| Project Concept & Thematic Design   | All team members                  | —                             | Introduction (1)                |\n",
    "| Global Trade Visualisation (3D + Sankey) | Qican Weng                    | Shiyu Cheng                | Global Trade (2)                |\n",
    "| Tokyo Map + Aoyama Submap           | Xinyi Zeng                        | —                          | Urban Grounds (3.1)             |\n",
    "| Istanbul Analysis + Beyoğlu Submap      | Xinyi Zeng                       | Shiyu Cheng                | Urban Grounds (3.2)             |\n",
    "| Visual Structure & Web Design       | All team members                  | —                             | Throughout (esp. 4)             |\n",
    "| Technical Debugging & Performance   | All team members                        | All                           | Technical Challenges (4.4)      |\n",
    "| Scroll-based Animation & Homepage   | Shiyu Cheng                        | —                             | Section 1 & 4                   |\n",
    "| Final Website Deployment            | All team members                    | —                             | All (via GitHub Pages)          |\n",
    "| Presentation Preparation            | All team members                  |               | —                                |\n",
    "| Report Writing & Editing            | All team members  | —               | All                             |\n"
   ]
  },
  {
   "cell_type": "markdown",
   "metadata": {},
   "source": [
    "## Introduction – Coffee as a Global Urban Perspective"
   ]
  },
  {
   "cell_type": "markdown",
   "metadata": {},
   "source": [
    "Coffee is one of the most widely traded commodities in the world — but also one of the most symbolically charged. From its colonial roots in the highlands of Ethiopia to third-wave cafés in Tokyo and Istanbul, coffee travels across borders not only as a good, but as a practice, a place, and a story.\n",
    "\n",
    "This project examines coffee as both a global flow and a local habit, exploring how trade, branding, and urban life intersect in and through this everyday object. On the international scale, coffee reveals the inequalities embedded in value chains, where production often occurs in the Global South, while most value is captured by corporate branding and consumption in the North (Gereffi et al., 2005). Yet beyond trade, coffee also mediates practices of identity, aspiration, and social differentiation in cities — what Warde (2005) calls “practice systems,” enacted through daily routines and spatial habits.\n",
    "\n",
    "Our website depicts this multi-scale geography through a series of interactive visualisations. We incorporate 3D trade flows, value chain breakdowns, and city cafe map comparisons to tell a story from the macrosystem to the micro space. Guided by theories of consumer culture (Arnould & Thompson, 2005) and informal public life (Oldenburg, 2023), we explore where global coffee flows, who benefits from its flow, and how it is lived, shaped, and visibled in urban forms.\n",
    "\n",
    "By using data-driven narratives, scroll-based staging, and spatialised POI networks, we map not just the movement of coffee but also what it reveals about modern urban life."
   ]
  },
  {
   "cell_type": "markdown",
   "metadata": {},
   "source": [
    "### Methodology"
   ]
  },
  {
   "cell_type": "markdown",
   "metadata": {},
   "source": [
    "The structure of our project is designed to reflect the multi-scalar nature of coffee as a commodity and cultural form. We adopt a three-part methodological approach that combines symbolic narrative, data-driven storytelling, and spatial interaction.\n",
    "\n",
    "The home page introduces key concepts through ambient visuals and scrolling animations. The Global Trade section follows a linear narrative, using scroll-triggered transitions and 3D arc visualisations to explore macro-scale flows and value distribution. In contrast, the Urban Cultures section employs a modular map-based interface: users can actively explore spatial patterns in Tokyo and Istanbul through point-of-interest filtering, polygon selection, and interactive diagrams - reflecting the localised and exploratory nature of coffee culture.\n",
    "\n",
    "This design logic is implemented using a consistent visualisation language, modular JavaScript components, and dedicated visualisation libraries (Globe.gl, D3.js, Mapbox GL JS, Chart.js). The diagram below outlines our workflow and toolset."
   ]
  },
  {
   "cell_type": "markdown",
   "metadata": {},
   "source": [
    "<figure style=\"text-align: center;\">\n",
    "  <img src=\"flowmap.jpg\" width=\"60%\">\n",
    "  <figcaption><strong>Figure 1.</strong> Workflow of the Coffee Story visualisation project.</figcaption>\n",
    "</figure>\n"
   ]
  },
  {
   "cell_type": "markdown",
   "metadata": {},
   "source": [
    "| **Category**             | **Method**                                      | **Tool / Library**          | **Description** |\n",
    "|--------------------------|-----------------------|------------------------------|------------------------|\n",
    "| Visualisation Methods    | Scroll-based symbolic introduction               | Custom HTML + CSS            | Shows historical and thematic spread of coffee |\n",
    "|                          | 3D global trade arc animation                    | Globe.gl + D3                | Depicts origin–destination flows dynamically |\n",
    "|                          | Value chain breakdown diagram                    | D3 Sankey                    | Visualises profit distribution across actors |\n",
    "|                          | KDE heatmap of café clusters                     | Mapbox GL JS                 | Maps spatial intensity of café distribution |\n",
    "| Interactive Effects      | POI toggle by category                           | Mapbox GL `setFilter()`      | Switches among Chain / Independent / Community |\n",
    "|                          | Region-based polygon filter                      | `queryRenderedFeatures()`    | Triggers chart updates on district click |\n",
    "|                          | Background particle animation                    | Custom Canvas / CSS          | Enhances homepage theme experience |\n",
    "|                          | View switching (2D/3D/Flat Earth)                | Globe.gl + condition logic   | Adapts visual form to section context |\n",
    "|                          | Linked detail pages                              | Modular HTML pages           | Presents micro-level narratives (e.g., Aoyama) |\n",
    "| Frameworks & Libraries   | 3D globe + trade network                         | Globe.gl, Three.js           | Core of animated trade visualisation |\n",
    "|                          | Flow and profit diagrams                         | D3.js                        | For Sankey, bar charts, dynamic updates |\n",
    "|                          | High-resolution city mapping                     | Mapbox GL JS                 | For polygon + KDE + POI display |\n",
    "|                          | Interactive charts                               | Chart.js                     | Renders café-type breakdowns |\n"
   ]
  },
  {
   "cell_type": "markdown",
   "metadata": {},
   "source": [
    "## Global Trade – From Colonial Commodity to Cultural Mediator"
   ]
  },
  {
   "cell_type": "markdown",
   "metadata": {},
   "source": [
    "### Who grows, and who drinks?"
   ]
  },
  {
   "cell_type": "markdown",
   "metadata": {},
   "source": [
    "In this section, we use D3.js and Globe.gl to bring our data to life. D3.js powers the histograms and Sankey diagrams, while Globe.gl creates a 3D interactive globe that lets users explore global coffee trade flows.\n",
    "\n",
    "First, we see that most raw coffee is grown in Global-South countries—Brazil, Vietnam, Colombia, and others—while the biggest importers are in the Global-North, especially the United States, Europe, and Japan.\n",
    "\n",
    "To show how coffee beans move, we built an animated “fly-line” map. It reveals, for example, that Colombian beans mostly go to the U.S., Indonesian beans feed European markets, and Brazil supplies both regions. Once those green beans arrive in consuming countries, they’re roasted and turned into products (think Nestlé or Lavazza). Those finished goods then either stay local or move on to neighboring markets—Germany to France, the U.S. to Canada, and so on.\n",
    "\n",
    "An interesting pattern appears when you zoom in on European trade data: some countries import a flood of green beans but then export a hefty batch of roasted coffee. That tells you immediately who’s built a robust coffee-processing industry. And here’s a neat detail: roasted beans weigh less than their unroasted counterparts but sell for much more per kilogram, showing that roasting and branding are where the real extra value lies."
   ]
  },
  {
   "cell_type": "markdown",
   "metadata": {},
   "source": [
    "<figure style=\"text-align: center;\">\n",
    "  <img src=\"trade1.png\" width=\"80%\">\n",
    "  <figcaption><strong>Figure 2.</strong> Trade of Raw and Roasted bean</figcaption>\n",
    "</figure>"
   ]
  },
  {
   "cell_type": "markdown",
   "metadata": {},
   "source": [
    "### Who makes the money?"
   ]
  },
  {
   "cell_type": "markdown",
   "metadata": {},
   "source": [
    "The Global Value Chain (GVC) framework shows how every step—from growing and processing to roasting and retail—adds value to a product. But the gains aren’t shared equally. In coffee, most of the profit sits with roasters, distributors, and big brands, while farmers see only a tiny slice.\n",
    "\n",
    "To make this clear, we created a Sankey diagram tracking how the price of one cup of coffee in Germany is split across Brazil’s and Colombia’s value chains. Hover over each flow to see volume and cash direction. The underlying study found that only about 4% of what you pay reaches the farm. On average, a farmer gets around €0.41 per kilogram of green beans, while the rest of your money goes to roasters, manufacturers, retailers—and hefty VAT and other taxes.\n",
    "\n",
    "This uneven split highlights a core challenge of GVCs: without fair-trade schemes, cooperatives, or other interventions, farmers remain locked into low-margin stages. They supply raw materials but lack the capital, technology, and market access to move “up the chain” into processing or branding—where the juicy profits hide."
   ]
  },
  {
   "cell_type": "markdown",
   "metadata": {},
   "source": [
    "<figure style=\"text-align: center;\">\n",
    "  <img src=\"sankey.png\" width=\"80%\">\n",
    "  <figcaption><strong>Figure 3.</strong> Trade of Raw and Roasted bean</figcaption>\n",
    "</figure>"
   ]
  },
  {
   "cell_type": "markdown",
   "metadata": {},
   "source": [
    "### Consumption is culture, too"
   ]
  },
  {
   "cell_type": "markdown",
   "metadata": {},
   "source": [
    "Bourdieu’s symbolic capital theory tells us that prestige and social recognition—what he calls “symbolic capital”—are just as valuable as money. It’s not just owning a fancy watch or driving a jet; even something as ordinary as a cup of coffee can carry status.\n",
    "\n",
    "We built an interactive chart showing coffee habits around the world. You can switch between total national consumption and per capita figures, and compare multiple countries at once. The U.S. leads in overall consumption, with Brazil in second—largely thanks to their big populations. But on a per-person basis the picture flips: Luxembourg tops the list at about 5.3 cups per person per day (or roughly 22 kg per year). Meanwhile, Denmark has the highest average price per cup at around $5.40—most of the priciest markets are in developed countries.\n",
    "\n",
    "Next, on our globe view we plotted where big coffee chains got their start. Almost all the heavy hitters—Starbucks from the U.S., Costa Coffee from the U.K., Tim Hortons from Canada—hail from Global North countries. They now operate tens of thousands of cafés worldwide. Coffee-producing nations rarely create brands of similar scale. Even when they do, their café networks tend to be small and local.\n",
    "\n",
    "According to Consumer Culture Theory (Arnould & Thompson, 2005), consumption is a key way people build and express identity. In many developed cities, coffee shops are associated with “creative professionals” and “white-collar” lifestyles. In most producing countries, however, coffee is still seen mainly as a basic drink or export crop—not yet a symbol of urban culture or social prestige. On top of that, lower disposable incomes, less urban infrastructure, and fewer specialty cafés make it harder for local consumers to join the high-end coffee scene. All of this keeps per-capita consumption in the Global South well below Global-North levels.\n"
   ]
  },
  {
   "cell_type": "markdown",
   "metadata": {},
   "source": [
    "<figure style=\"text-align: center;\">\n",
    "  <img src=\"consumption.png\" width=\"80%\">\n",
    "  <figcaption><strong>Figure 4.</strong> Trade of Raw and Roasted bean</figcaption>\n",
    "</figure>"
   ]
  },
  {
   "cell_type": "markdown",
   "metadata": {},
   "source": [
    "## Urban Grounds – Coffee as City Practice"
   ]
  },
  {
   "cell_type": "markdown",
   "metadata": {},
   "source": [
    "### Tokyo – Precision and Pause"
   ]
  },
  {
   "cell_type": "markdown",
   "metadata": {},
   "source": [
    "In Tokyo, coffee is not loud — it is precise, minimal, and deeply integrated into the rhythms of urban life. Our visualisation explores how café typologies and spatial practices articulate Tokyo’s unique blend of efficiency, ritual, and aesthetics.\n",
    "\n",
    "We begin with a city-scale interactive map that classifies cafés into four categories: Chain, Independent, Community/Old-fashioned, and Featured. Using Mapbox GL JS, we overlay point data with a heatmap and polygon boundaries of city districts, allowing users to filter layers and examine density clusters. A dynamic bar chart updates upon polygon selection, revealing the distribution of café types in each administrative unit. This structure visualises Tokyo not only as a consumption landscape, but as a differentiated practice space.\n",
    "\n",
    "Café distribution patterns suggest a spatial logic tied to Tokyo’s functional zoning: chain cafés concentrate near major transport hubs like Shinjuku and Ikebukuro; independent cafés flourish in creative and residential areas such as Setagaya; community cafés are sparsely distributed, often found in older districts with strong neighbourhood identities. These insights resonate with Warde’s (2005) concept of consumption as embedded practice — not merely an act of choice, but a routine shaped by infrastructures, mobility, and social expectations.\n",
    "\n",
    "To deepen this narrative, we present a micro-map of Aoyama, a subdistrict along the Omotesando cultural corridor. Here, selected POIs are linked with hover-based popups, while metro stations activate buffer zones highlighting pedestrian café clusters. Aoyama’s coffee network, dominated by quiet independent spaces and curated interiors, reflects the aesthetics of control, calm, and craft. This micro-network illustrates Oldenburg’s (2023) “third place” not as a loud social hub, but as a subtle node of decompression within an accelerated city.\n",
    "\n",
    "In Tokyo, coffee mediates a practice of pause — a ritualised intermission between movement and stillness, encoded not only in beverages, but in space itself."
   ]
  },
  {
   "cell_type": "markdown",
   "metadata": {},
   "source": [
    "<figure style=\"text-align: center;\">\n",
    "  <img src=\"urban_tokyo.jpg\" width=\"80%\">\n",
    "  <figcaption><strong>Figure 5.</strong> Urban Page: Tokyo Interactive Map</figcaption>\n",
    "</figure>\n"
   ]
  },
  {
   "cell_type": "markdown",
   "metadata": {},
   "source": [
    "**Aoyama: Micro-network and Design Culture**"
   ]
  },
  {
   "cell_type": "markdown",
   "metadata": {},
   "source": [
    "Aoyama, a sophisticated and design-conscious neighbourhood on the Omotesando axis, offers a unique glimpse into Tokyo's network of micro-cafés. In this sub-page, we've selected a hand-picked selection of cafés, including Blue Bottle, Café Kitsuné and Toraya, which embody a spatial aesthetic where minimalism meets locality, blending architecture, branding and ritual.\n",
    "\n",
    "In addition to the visual choices, we added a metro-based buffer zone analysis. Clicking on the underground icon reveals a 300 metre pedestrian cluster showing how the café fits in with the traffic and rhythm. The axial layer covers the creative spine of Tokyo, suggesting a structured cultural corridor. In Aoyama, the café is not just a stopping point, but a coordinated node in the city's design economy, lifestyle patterns, and the structure of the ‘third space’ (Oldenburg, 2023). This sub-network shows how consumption, space and symbolism are intertwined in the everyday urban fabric."
   ]
  },
  {
   "cell_type": "markdown",
   "metadata": {},
   "source": [
    "<figure style=\"text-align: center;\">\n",
    "  <img src=\"urban_aoyama.jpg\" width=\"80%\">\n",
    "  <figcaption><strong>Figure 6.</strong> Urban Sub-Page: Aoyama Interactive Map</figcaption>\n",
    "</figure>"
   ]
  },
  {
   "cell_type": "markdown",
   "metadata": {},
   "source": [
    "### Istanbul – Layered Café Histories"
   ]
  },
  {
   "cell_type": "markdown",
   "metadata": {},
   "source": [
    "引入伊斯坦布尔的空间二元性（新旧城区、文化层叠）\n",
    "描述 café 类型变化和街区功能分布的初步发现\n",
    "若尚未完成地图，可以作为概念引导，结合图片+理论\n",
    "可选引用：Bookman / Dolbec et al. 强调品牌与文化的共构过程"
   ]
  },
  {
   "cell_type": "markdown",
   "metadata": {},
   "source": [
    "## Design and Technical Challenges"
   ]
  },
  {
   "cell_type": "markdown",
   "metadata": {},
   "source": [
    "### Narrative Structure and Page Architecture"
   ]
  },
  {
   "cell_type": "markdown",
   "metadata": {},
   "source": [
    "- 解释整体网页结构：\n",
    "    - 页面采用纵向滚动结构（index.html），结合多个跳转子页面（如 `urban_tokyo.html`, `3d_earth.html` 等）\n",
    "    - 顶部导航栏支持快速锚点跳转，右侧拼贴图与左侧地图构成立体信息空间\n",
    "- 段落滚动与状态切换（scroll-based staging）控制动画效果与视觉节奏：\n",
    "    - 首页引入 `coffee-floating`（咖啡豆雨）与 `coffee-halo`（离子扩散）\n",
    "    - 地球视觉切换通过 `.scrolled-*` class 实现 scale 与 fade 效果"
   ]
  },
  {
   "cell_type": "code",
   "execution_count": null,
   "metadata": {},
   "outputs": [],
   "source": [
    "print(\"hello world\")"
   ]
  },
  {
   "cell_type": "markdown",
   "metadata": {},
   "source": [
    "### Tools and Visualisation Techniques"
   ]
  },
  {
   "cell_type": "markdown",
   "metadata": {},
   "source": [
    "\n",
    "**3D**"
   ]
  },
  {
   "cell_type": "markdown",
   "metadata": {},
   "source": [
    "The 3D visualisation was mainly applied on the trade flow demostration. We use **Three.js** together with **Globe.gl** to build a fully interactive 3D map that supports smooth animations and click-to-view details. **D3.js** handles all data filtering and draws the accompanying histograms.\n",
    "\n",
    "This part have three section, each section contain a 3D inerfact and a side bar. The 3D  part will be share by three section, since no much data and logic change between these section. When you scroll down the sidebar, the even listener in `script.js` will detect the change and refresh the data shown on the 3d layer.\n",
    "\n",
    "On the globe itself, we render “fly-lines” to trace coffee trade routes and a hypsometric layer to visualize brand and consumer density around the world. Because a 3D map can only display so much at once, we’ve added a fixed sidebar in the HTML to host explanatory text and charts. Users can click any arc or polygon on the globe to drill down into country- or route-specific data."
   ]
  },
  {
   "cell_type": "markdown",
   "metadata": {},
   "source": [
    "<figure style=\"text-align: center;\">\n",
    "  <img src=\"3d.png\" width=\"80%\">\n",
    "  <figcaption><strong>Figure 7.</strong> 3D interface</figcaption>\n",
    "</figure>"
   ]
  },
  {
   "cell_type": "markdown",
   "metadata": {},
   "source": [
    "**Urban**"
   ]
  },
  {
   "cell_type": "markdown",
   "metadata": {},
   "source": [
    "The Urban Culture pages (Tokyo and Istanbul) share a consistent spatial architecture built using **Mapbox GL JS** for mapping and **Chart.js** for responsive statistics. These components are embedded within modular HTML templates to ensure consistency across subpages such as `urban_tokyo.html` and `urban_tokyo_aoyama.html`.\n",
    "\n",
    "Instead of repeating logic per page, we developed shared **JavaScript modules** for key functions, including category-based POI filtering, polygon-based aggregation, and heatmap toggling. Each map component inherits common behaviours through encapsulated function calls (e.g. `applyDistrictFilter`, `renderCafeChart`), while allowing for flexible extension at the sub-district level.\n",
    "\n",
    "In parallel, we adopted a **component-based CSS approach** to maintain visual consistency. Sidebar cards, toggle buttons, and info panels reuse the same style classes across pages. This modularity enables us to easily scale the project by plugging new layers, cities, or interactions into the existing system without major refactoring.\n"
   ]
  },
  {
   "cell_type": "markdown",
   "metadata": {},
   "source": [
    "### Layer Logic and Interaction Design\n"
   ]
  },
  {
   "cell_type": "markdown",
   "metadata": {},
   "source": [
    "**home page**  \n"
   ]
  },
  {
   "cell_type": "markdown",
   "metadata": {},
   "source": [
    "\n",
    "texttexttexttexttexttexttexttexttexttexttexttexttexttexttexttexttexttexttexttext  \n",
    "texttexttexttexttexttexttexttexttexttexttexttexttexttexttexttexttexttexttexttext  \n",
    "texttexttexttexttexttexttexttexttexttexttexttexttexttexttexttexttexttexttexttext   \n",
    "\n",
    "texttexttexttexttexttexttexttexttexttexttexttexttexttexttexttexttexttexttexttext  \n",
    "texttexttexttexttexttexttexttexttexttexttexttexttexttexttexttexttexttexttexttext  \n",
    "texttexttexttexttexttexttexttexttexttexttexttexttexttexttexttexttexttexttexttext  \n"
   ]
  },
  {
   "cell_type": "markdown",
   "metadata": {},
   "source": [
    "**World Trade**"
   ]
  },
  {
   "cell_type": "markdown",
   "metadata": {},
   "source": [
    "Under the hood, our coffee trade-flow dataset comes from Chatham House (which provides exporter, importer, commodity, and value). We enriched it by adding latitude/longitude for each location and a “tradeFlow” field (e.g. “Brazil–USA”). Globe.gl then reads those geocoordinates to draw arcs on the Earth’s surface, with each line’s color and width driven by attributes like commodity type and shipment volume.\n",
    "\n",
    "In addition, we incorporated a Solidaridad study of the German coffee market’s value chain to build a Sankey diagram showing how end-consumer spending flows through each segment of the chain. The diagram uses distinct colors to represent different value flows. We also leveraged data on coffee chain brands and consumption figures from the Cafely website to produce choropleth maps that, for each country, visualize both the number of chain-brand outlets and total consumption levels.\n",
    "\n",
    "For data interaction we rely on dropdown menus and checkboxes, letting users choose the year, commodity type, or category they want to explore. For example, you might select “green beans – 2020” and then view the top five importers by either USD value or tonnage, with results instantly plotted as a histogram."
   ]
  },
  {
   "cell_type": "markdown",
   "metadata": {},
   "source": [
    "**Urban Culture**"
   ]
  },
  {
   "cell_type": "markdown",
   "metadata": {},
   "source": [
    "The *Urban Culture* visualisation focuses on how cafés manifest social practices within urban form, particularly in Tokyo and Istanbul. This section uses **Mapbox GL JS** to build a spatially layered map that integrates point-based café data, administrative polygons, kernel density estimation (KDE) overlays, and interactive information panels.\n",
    "\n",
    "We designed three core types of visual layers:\n",
    "\n",
    "- **POI layer** (`cafe-poi`)  \n",
    "  Individual cafés are rendered as circle markers, categorised into *Chain*, *Independent*, and *Community/Old-fashioned*. The visibility of each type is controlled via checkboxes, using `setFilter()` to dynamically update the map based on user selection.\n",
    "\n",
    "- **Heatmap layer** (`cafe-kde`)  \n",
    "  A smoothed KDE-style heat layer is toggled separately and can be activated by café type. The intensity dynamically reflects POI density at current zoom levels, helping to highlight urban clustering patterns.\n",
    "\n",
    "- **Polygon layer** (`district-polygons`)  \n",
    "  Administrative boundaries are used both for filtering and triggering statistics. On polygon click, we query café points within that boundary using `queryRenderedFeatures()` and push aggregated data (e.g., counts per type) to an external chart (via *Chart.js*).\n",
    "\n",
    "In terms of interaction design, each polygon stores a unique `district_id` which is matched against café metadata. The selected polygon also triggers a change in sidebar content and text panel, linking spatial selection with narrative updates.\n",
    "\n",
    "To manage interaction complexity, we structured the logic into modular functions:\n",
    "\n",
    "- `toggleCafeLayer(type)` – controls POI visibility by category  \n",
    "- `activatePolygonFilter(id)` – applies spatial filter for selected district  \n",
    "- `updateChartData(features)` – aggregates point data for charts  \n",
    "- `resetAllLayers()` – clears current state and restores base view\n",
    "\n",
    "Through these coordinated layers and states, we transform a static city map into a responsive cultural landscape. This enables users to “read” urban coffee spaces as expressions of daily life, rhythm, and spatial meaning — in line with Oldenburg’s (2023) concept of *third place* and Warde’s (2005) theory of *practice systems*."
   ]
  },
  {
   "cell_type": "markdown",
   "metadata": {},
   "source": [
    "### Technical Challenges and Solutions"
   ]
  },
  {
   "cell_type": "markdown",
   "metadata": {},
   "source": [
    "This section outlines the design architecture, interactive logic, and technical problem-solving approaches behind our visualisation system. Our website consists of multiple narrative modules — including the homepage, global trade, and urban culture — each supported by custom interaction mechanisms and tailored visual components.\n",
    "\n",
    "To structure this chapter clearly, we divide the discussion by section (*e.g.*, Homepage, World Trade, Urban Culture). For each, we begin with a **table summarising key technical challenges and their corresponding solutions**, covering aspects such as map-layer coordination, performance, responsive design, and data communication.\n",
    "\n",
    "Following the table, we expand on **a selection of representative challenges** using function-level explanations and code blocks. These are chosen to highlight both implementation logic and our group’s approach to engineering clean, user-focused solutions within a multi-layered web environment."
   ]
  },
  {
   "cell_type": "markdown",
   "metadata": {},
   "source": [
    "**Home Page**\n"
   ]
  },
  {
   "cell_type": "markdown",
   "metadata": {},
   "source": [
    "texttexttexttexttexttexttexttexttexttexttexttexttexttexttexttexttexttexttexttext  \n",
    "texttexttexttexttexttexttexttexttexttexttexttexttexttexttexttexttexttexttexttext  \n",
    "texttexttexttexttexttexttexttexttexttexttexttexttexttexttexttexttexttexttexttext  \n",
    "\n",
    "texttexttexttexttexttexttexttexttexttexttexttexttexttexttexttexttexttexttexttext  \n",
    "texttexttexttexttexttexttexttexttexttexttexttexttexttexttexttexttexttexttexttext  \n",
    "texttexttexttexttexttexttexttexttexttexttexttexttexttexttexttexttexttexttexttext  "
   ]
  },
  {
   "cell_type": "markdown",
   "metadata": {},
   "source": [
    "**World Trade**\n"
   ]
  },
  {
   "cell_type": "markdown",
   "metadata": {},
   "source": [
    "| **Challenge**                                                                | **Solution**                                                                                                       |\n",
    "|------------------------------------------------------------------------------|--------------------------------------------------------------------------------------------------------------------|\n",
    "|**Performance issues with the 3D layer**<br>\n",
    "Page freezes or crashes when switching sections because we were instantiating and tearing down multiple Globe.gl instances and re-rendering every layer each time.|1.Only instantiate `Globe()` once<br>. 2.On first load, render all layers<br>.3.On section-change, merely toggle layer visibility instead of re-rendering<br>.4.Only draw the top 5 % of trade arcs to cut down on geometry.|\n",
    "|**Data-Loading Logic Conflicts**<br>Bars will disappear or display incorrect values after changing the filter.|split data loading by section and enca psulated each chart’s entire workflow—loading, filtering, aggregating, and drawing—into its own function.|\n",
    "|**3D Data-Display Glitch**<br>country-boundary layer would fill the entire globe instead of just each country’s polygon.|We haven't change any data or code, just simply let another group member to do it, and become normal automatically|"
   ]
  },
  {
   "cell_type": "markdown",
   "metadata": {},
   "source": [
    "**Enhence the Performance**"
   ]
  },
  {
   "cell_type": "markdown",
   "metadata": {},
   "source": [
    "Originally, we were creating a brand-new Globe.gl instance for each chapter and re-rendering every layer from scratch, which quickly overwhelmed the browser. To fix this, we refactored so that the globe is instantiated just once, on first load, with all of the data layers already in place. Then, when the user moves between sections, we no longer recreate the map—instead we simply toggle layer visibility. "
   ]
  },
  {
   "cell_type": "code",
   "execution_count": null,
   "metadata": {},
   "outputs": [],
   "source": [
    "//giving all section a layer state by function, when it goes to different section, different function will be activated.\n",
    "function showBordersFlows() {\n",
    "  globe\n",
    "    .arcsData(topData);     \n",
    "  selectorBox.style.display = 'block'; \n",
    "} //section 1 status, only arc will be shown\n",
    "\n",
    "function showBordersOnly()\n",
    "//...same as section 1 ...\n",
    "\n",
    "\n",
    "// 2. map the section\n",
    "const sectionActions = {\n",
    "  scrollContent1: showBordersFlows,\n",
    "  scrollContent2: showBordersOnly,\n",
    "  scrollContent3: showFlowsOnly\n",
    "};\n",
    "\n",
    "// 3. Observer the change of section\n",
    "const sidebar = document.getElementById('sidebarContent');\n",
    "const observer = new IntersectionObserver(entries => {\n",
    "  entries.forEach(entry => {\n",
    "    if (entry.isIntersecting && sectionActions[entry.target.id]) {\n",
    "      sectionActions[entry.target.id]();\n",
    "    }\n",
    "  });\n",
    "}, { root: sidebar, threshold: 0.5 });\n",
    "\n",
    "['scrollContent1','scrollContent2','scrollContent3']\n",
    "  .forEach(id => {\n",
    "    const el = document.getElementById(id);\n",
    "    if (el) observer.observe(el);\n",
    "  });\n",
    "\n",
    "\n",
    "//4 \n",
    "const globe = Globe()\n",
    "  .globeImageUrl('globesurface3.png')\n",
    "  .backgroundColor('rgba(0,0,0,0)')\n",
    "\n",
    "... other code for drawing earth ...\n",
    "  \n",
    "Promise.all([\n",
    "    d3.json(\"world.geojson\"),\n",
    "    d3.csv(\"combined_tradeflow.csv\"),\n",
    "    d3.csv(\"List_of_coffeehouse_chains_3.csv\"),\n",
    "]).then(function([boundaryData, merged_flow, brands]) { //... code for filter, fly-line ...}\n"
   ]
  },
  {
   "cell_type": "markdown",
   "metadata": {},
   "source": [
    "**Dealing the conflict**"
   ]
  },
  {
   "cell_type": "markdown",
   "metadata": {},
   "source": [
    "In both Part 1 and Part 3’s histograms, the filtering logic became so intertwined that the same dataset was inadvertently filtered twice. Variables holding filtered results would get re-filtered by subsequent operations, causing bars to disappear or display incorrect values.\n",
    "\n",
    "we split data loading by section and encapsulated each chart’s entire workflow—loading, filtering, aggregating, and drawing—into its own function. Every time the user switches sections, we call the relevant function afresh on the original dataset, preventing any “double filtering.” Since our data is relatively small, the slight overhead from re-running the same logic is negligible compared to the benefit of guaranteed accuracy:"
   ]
  },
  {
   "cell_type": "code",
   "execution_count": null,
   "metadata": {},
   "outputs": [],
   "source": [
    "// Encapsulation the graph process\n",
    "function renderChart(data, metrics) {\n",
    "  // clean the old graph\n",
    "  d3.select('#barChart').selectAll('*').remove();\n",
    "  \n",
    "  // ...the code for drawing and adjusting graph... \n",
    " \n",
    "}\n",
    "\n",
    "// load the data\n",
    "d3.csv('coffee_consumption_cleaned.csv', d3.autoType).then(data => {\n",
    "     // create a tooltip\n",
    "  tooltip = d3.select(\"body\")\n",
    "  .append(\"div\")\n",
    "  .attr(\"class\", \"tooltip\")\n",
    "  .style(\"opacity\", 0);\n",
    "  // function for read the checkbox options\n",
    "  function getMetrics() {\n",
    "    const ms = d3.selectAll('input[name=\"sortOption\"]:checked')\n",
    "      .nodes().map(n=>n.value);\n",
    "    return ms.length? ms\n",
    "           : [ d3.select('input[name=\"sortOption\"]').node().value ];\n",
    "  }\n",
    "\n",
    "  //Binding the change even, each time you change the option, it will read and filter the data and render the chart again \n",
    "  d3.selectAll('input[name=\"sortOption\"]')\n",
    "  .on('change', () => {\n",
    "    renderChart(data, getMetrics())\n",
    "    ;\n",
    "  });\n",
    "\n",
    "  // render the graph\n",
    "  renderChart(data, getMetrics());\n",
    "});"
   ]
  },
  {
   "cell_type": "markdown",
   "metadata": {},
   "source": [
    "**Urban Culture**"
   ]
  },
  {
   "cell_type": "markdown",
   "metadata": {},
   "source": [
    "| **Challenge**                                                                 | **Solution**                                                                                                       |\n",
    "|------------------------------------------------------------------------------|--------------------------------------------------------------------------------------------------------------------|\n",
    "| **Layer conflict and unintended click triggers**<br>Clicking on overlapping layers (e.g. polygon vs. POI) triggered incorrect responses | Used `map.queryRenderedFeatures(e.point, { layers: [...] })` to explicitly filter for intended layer targets and manage click priority |\n",
    "| **Filter state mismatch after fast toggling**<br>Layer and chart updates fell out of sync when users toggled filters quickly | Centralised current filter logic in a `currentPolygonFilter` variable; all layer and chart updates referenced this state |\n",
    "| **Chart.js rendering fails on first load**<br>Bar chart does not appear or mis-sizes when polygon is first clicked | Wrapped `chart.render()` or `chart.resize()` inside `setTimeout(..., 400)` to ensure DOM readiness before rendering |\n",
    "| **KDE heatmap toggle lags or appears unresponsive**<br>Especially when combined with POI filtering | Debounced filter updates using a timeout throttle, and isolated `setLayoutProperty` from intensive `setFilter()` updates |\n",
    "| **Aoyama metro buffer click conflicts with axis interaction**<br>Two clickable layers overlapped (buffer zones vs axis line) | Used `queryRenderedFeatures()` with distinct layer filters to check which geometry was clicked, prioritising metro logic |\n",
    "| **Mobile layout caused overlapping panels and clipped maps**<br>Sidebar covered map elements or cut off charts | Used CSS `@media` queries to shift from side-by-side `grid` to top-bottom `flex` layout on small screens (<768px)        |\n"
   ]
  },
  {
   "cell_type": "markdown",
   "metadata": {},
   "source": [
    "**Resolving Click Conflicts Between Layers**"
   ]
  },
  {
   "cell_type": "markdown",
   "metadata": {},
   "source": [
    "One of the most common issues we faced in Urban Culture was overlapping clickable layers. In Aoyama, for example, users could click either on the metro buffer or on the axis line. Without filtering, both triggers responded simultaneously.\n",
    "\n",
    "We solved this by using `map.queryRenderedFeatures()` with an explicit `layers` parameter to determine exactly which layer the user clicked:"
   ]
  },
  {
   "cell_type": "code",
   "execution_count": null,
   "metadata": {},
   "outputs": [],
   "source": [
    "map.on('click', (e) => {\n",
    "  const features = map.queryRenderedFeatures(e.point, {\n",
    "    layers: ['metro-layer', 'axis-line']\n",
    "  });\n",
    "\n",
    "  if (features.length) {\n",
    "    const clickedLayer = features[0].layer.id;\n",
    "\n",
    "    if (clickedLayer === 'metro-layer') {\n",
    "      renderBufferZone(features[0]);\n",
    "    } else if (clickedLayer === 'axis-line') {\n",
    "      showNarrativePanel(features[0]);\n",
    "    }\n",
    "  }\n",
    "});"
   ]
  },
  {
   "cell_type": "markdown",
   "metadata": {},
   "source": [
    "**Managing Filter State with `currentPolygonFilter`**\n"
   ]
  },
  {
   "cell_type": "markdown",
   "metadata": {},
   "source": [
    "When users filtered POIs and clicked between districts, the layers sometimes went out of sync. We centralised state handling through a global variable currentPolygonFilter, which all update functions referenced:"
   ]
  },
  {
   "cell_type": "code",
   "execution_count": null,
   "metadata": {},
   "outputs": [],
   "source": [
    "let currentPolygonFilter = null;\n",
    "\n",
    "function activatePolygonFilter(id) {\n",
    "  currentPolygonFilter = id;\n",
    "\n",
    "  map.setFilter('cafe-poi', ['==', ['get', 'district_id'], id]);\n",
    "  updateChartData(getPointsInPolygon(id));\n",
    "  updateInfoPanel(id);\n",
    "}"
   ]
  },
  {
   "cell_type": "markdown",
   "metadata": {},
   "source": [
    "This architecture avoided race conditions and maintained a clean state flow across the chart, info panel, and POI map."
   ]
  },
  {
   "cell_type": "markdown",
   "metadata": {},
   "source": [
    "**Handling Chart Rendering Errors**"
   ]
  },
  {
   "cell_type": "markdown",
   "metadata": {},
   "source": [
    "Chart.js occasionally failed to render properly when triggered by the first polygon click — often due to the chart container not being visible yet. Our fix used a minimal `setTimeout` delay to defer rendering until the container was fully loaded:"
   ]
  },
  {
   "cell_type": "code",
   "execution_count": null,
   "metadata": {},
   "outputs": [],
   "source": [
    "setTimeout(() => {\n",
    "  chart.data = formattedData;\n",
    "  chart.update();\n",
    "}, 400);"
   ]
  },
  {
   "cell_type": "markdown",
   "metadata": {},
   "source": [
    "This ensured consistent rendering without overcomplicating the layout logic."
   ]
  },
  {
   "cell_type": "markdown",
   "metadata": {},
   "source": [
    "**Summary**"
   ]
  },
  {
   "cell_type": "markdown",
   "metadata": {},
   "source": [
    "In the Urban Cultures section, we adopted a modular and defensive coding strategy - resolving interaction conflicts through explicit queries, managing state globally, and ensuring visual consistency through rendering control. These choices allowed us to scale across multiple urban environments (e.g. Tokyo and Istanbul) while maintaining a responsive and consistent user experience."
   ]
  },
  {
   "cell_type": "markdown",
   "metadata": {},
   "source": [
    "## Conclusion – A Global Network in a Cup"
   ]
  },
  {
   "cell_type": "markdown",
   "metadata": {},
   "source": [
    "This project set out to explore how coffee, as both a global commodity and cultural object, reveals the networks that shape our cities and everyday lives. Through layered visualisations — from trade flows and value chains to micro-level café distributions — we found that coffee operates as a mediator between global systems and local practices.\n",
    "\n",
    "It encodes rhythms of modern urban life: efficiency and ritual in Tokyo, hybridity and heritage in Istanbul. Cafés are not just points on a map; they are third places (Oldenburg, 2023), practice sites (Warde, 2005), and social anchors that reflect broader cultural structures. By mapping where coffee is grown, consumed, and experienced, we exposed spatial asymmetries and symbolic differentiations often hidden in plain sight.\n",
    "\n",
    "Our use of narrative-based, interactive visualisation offered both expressive power and design challenges. The integration of theory and code demanded balance — between clarity and complexity, structure and openness. Still, the digital medium allowed us to blend data and storytelling into an exploratory platform.\n",
    "\n",
    "Future iterations could incorporate real-time data, crowd-sourced café experiences, or comparative city modules. But fundamentally, this project reaffirms that even a simple drink like coffee can visualise the global through the local — one map, one street, and one story at a time."
   ]
  },
  {
   "cell_type": "markdown",
   "metadata": {},
   "source": [
    "## Data Sources"
   ]
  },
  {
   "cell_type": "markdown",
   "metadata": {},
   "source": [
    "| Name | Type | Time | Content | Link |\n",
    "|------|------|------|---------|------|\n",
    "| United States Department of Agriculture | Trade / Production | 2018–2022 | Coffee import/export volume and value | [USDA](https://apps.fas.usda.gov/psdonline/app/index.html#/app/downloads) |\n",
    "| FAOSTAT – Crops and Livestock Products | Production Statistics | 2018–2022 | Coffee production by country | [FAO](https://www.fao.org/faostat/en/#data/QCL) |\n",
    "| Gross revenue from coffee production in Brazil | Economic Indicator | 2013–2024 | Revenue trends over time | [Statista](https://www.statista.com/statistics/741689/coffee-production-volume-brazil/) |\n",
    "| Brazil Coffee – Supply Chain Data | Supply Chain | 2018 | Traceable export chain info | [Trase](https://trase.earth/open-data/datasets/supply-chains-brazil-coffee) |\n",
    "| Cafe POI | POI Dataset | 2024 | Global café locations and metadata | [OSH](https://opensupplyhub.org/facilities?contributors=10002&contributors=10004&contributors=10006&contributors=10083&contributors=10086&contributors=10120&contributors=10124&contributors=10171&contributors=10177&contributors=10178&contributors=6800&contributor) |\n",
    "| MAPBIOMAS Collections | Land Use / Satellite | 2018–2022 | Land cover change in Brazil | [Mapbiomas](https://brasil.mapbiomas.org/en/colecoes-mapbiomas/) |\n",
    "| Resource Trade Earth | Global Trade | 2022 | Coffee trade flows by value | [Chatham House](https://resourcetrade.earth/?year=2022&category=906&units=value&autozoom=1) |\n",
    "| City Boundary Data | GIS / Urban | 2024 | Administrative boundaries | via OSMnx |\n"
   ]
  },
  {
   "cell_type": "markdown",
   "metadata": {},
   "source": [
    "## References"
   ]
  },
  {
   "cell_type": "markdown",
   "metadata": {},
   "source": [
    "- Arnould, E.J. and Thompson, C.J., 2005. Consumer culture theory (CCT): Twenty years of research. *Journal of Consumer Research*, 31(4), pp.868–882.\n",
    "- Bookman, S., 2014. Brands and urban life: Specialty coffee, consumers, and the co-creation of urban café sociality. *Urban Studies*, 51(13), pp.2957–2972.\n",
    "- Bourdieu, P., 1984. *Distinction: A social critique of the judgement of taste*. Cambridge, MA: Harvard University Press.\n",
    "- Dolbec, P.-Y., Nathanson, A. and De Rond, M., 2022. A practice perspective on market evolution: How craft and commercial coffee firms expand practices and change positions. *Marketing Theory*, 22(4), pp.451–471.\n",
    "- Fischer, E.F., 2021. Quality and inequality: Creating value worlds with Third Wave coffee. *Socio-Economic Review*, 19(1), pp.111–131.\n",
    "- Gao, X., Liu, L. and Chen, Z., 2025. Cafe geography tells how locations vary across retail models. *Urban Retail Review*. (Forthcoming)\n",
    "- Gereffi, G., Humphrey, J. and Sturgeon, T., 2005. The governance of global value chains. *Review of International Political Economy*, 12(1), pp.78–104.\n",
    "- Oldenburg, R., 2023. *The Great Good Place*. Reprinted & annotated edition. (Excerpts: Classic Coffeehouses, Personal Benefits, Introduction, Toward Better Times)\n",
    "- Warde, A., 2005. Consumption and theories of practice. *Journal of Consumer Culture*, 5(2), pp.131–153."
   ]
  }
 ],
 "metadata": {
  "kernelspec": {
   "display_name": ".venv",
   "language": "python",
   "name": "python3"
  },
  "language_info": {
   "codemirror_mode": {
    "name": "ipython",
    "version": 3
   },
   "file_extension": ".py",
   "mimetype": "text/x-python",
   "name": "python",
   "nbconvert_exporter": "python",
   "pygments_lexer": "ipython3",
   "version": "3.11.2"
  }
 },
 "nbformat": 4,
 "nbformat_minor": 1
}

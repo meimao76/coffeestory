{
 "cells": [
  {
   "cell_type": "markdown",
   "metadata": {},
   "source": [
    "# Coffee Road: From Commodity to Culture\n",
    "### _Exploring Global Trade and Urban Networks Through Coffee_"
   ]
  },
  {
   "cell_type": "markdown",
   "metadata": {},
   "source": [
    "## Table of Contents\n",
    "\n",
    "> *Click any section below to jump directly to it:*\n",
    "\n",
    "- [Project Output Description](#project-output-description)\n",
    "- [Individual Contributions](#individual-contributions)\n",
    "- [1. Introduction – Coffee as a Global Urban Perspective](#1-introduction--coffee-as-a-global-urban-perspective)\n",
    "- [2. Global Trade – From Colonial Commodity to Cultural Mediator](#2-global-trade--from-colonial-commodity-to-cultural-mediator)\n",
    "    - [2.1 Who grows, and who drinks?](#21-who-grows-and-who-drinks)\n",
    "    - [2.2 Who makes the money?](#22-who-makes-the-money)\n",
    "    - [2.3 Consumption is culture, too.](#23-consumption-is-culture-too)\n",
    "- [3. Urban Grounds – Coffee as City Practice](#3-urban-grounds--coffee-as-city-practice)\n",
    "    - [3.1 Tokyo – Precision and Pause](#31-tokyo--precision-and-pause)\n",
    "    - [3.1.1 Aoyama: Micro-network and Design Culture](#311-aoyama-micro-network-and-design-culture)\n",
    "    - [3.2 Istanbul – Layered Café Histories](#32-istanbul--layered-café-histories)\n",
    "- [4. Design and Technical Challenges](#4-design-and-technical-challenges)\n",
    "    - [4.1 Narrative Structure and Page Architecture](#41-narrative-structure-and-page-architecture)\n",
    "    - [4.2 Tools and Visualisation Techniques](#42-tools-and-visualisation-techniques)\n",
    "    - [4.3 Layer Logic and Interaction Design](#43-layer-logic-and-interaction-design)\n",
    "    - [4.4 Technical Challenges and Solutions](#44-technical-challenges-and-solutions)\n",
    "- [5. Conclusion – A Global Network in a Cup](#5-conclusion--a-global-network-in-a-cup)\n",
    "- [6. References](#6-references)\n"
   ]
  },
  {
   "cell_type": "markdown",
   "metadata": {},
   "source": [
    "## Project Output Description"
   ]
  },
  {
   "cell_type": "markdown",
   "metadata": {},
   "source": [
    "**待最终确认**"
   ]
  },
  {
   "cell_type": "markdown",
   "metadata": {},
   "source": [
    "| **Project Output**         | **Output Description**                                                                 |\n",
    "|---------------------------|----------------------------------------------------------------------------------------|\n",
    "| Project Output Files       | Zip file submitted on Moodle and/or download link emailed to [duncan.a.smith@ucl.ac.uk](mailto:duncan.a.smith@ucl.ac.uk) |\n",
    "| Project Website (optional) | [https://meimao76.github.io/coffeestory/](https://meimao76.github.io/coffeestory/)    |\n",
    "| Github Link| https://github.com/meimao76/coffeestory |\n"
   ]
  },
  {
   "cell_type": "markdown",
   "metadata": {},
   "source": [
    "## Individual Contributions"
   ]
  },
  {
   "cell_type": "markdown",
   "metadata": {},
   "source": [
    "| **Task Name**                        | **Major Contributor(s)**          | **Additional Contributor(s)** | **Relevant Report Section(s)** |\n",
    "|-------------------------------------|-----------------------------------|-------------------------------|----------------------------------|\n",
    "| Project Concept & Thematic Design   | All team members                  | —                             | Introduction (1)                |\n",
    "| Global Trade Visualisation (3D + Sankey) | Qican Weng                    | Shiyu Cheng                | Global Trade (2)                |\n",
    "| Tokyo Map + Aoyama Submap           | Xinyi Zeng                        | —                          | Urban Grounds (3.1)             |\n",
    "| Istanbul Analysis + Beyoğlu Submap      | Xinyi Zeng                       | Shiyu Cheng                | Urban Grounds (3.2)             |\n",
    "| Visual Structure & Web Design       | All team members                  | —                             | Throughout (esp. 4)             |\n",
    "| Technical Debugging & Performance   | All team members                        | All                           | Technical Challenges (4.4)      |\n",
    "| Scroll-based Animation & Homepage   | Shiyu Cheng                        | —                             | Section 1 & 4                   |\n",
    "| Final Website Deployment            | All team members                    | —                             | All (via GitHub Pages)          |\n",
    "| Presentation Preparation            | All team members                  |               | —                                |\n",
    "| Report Writing & Editing            | All team members  | —               | All                             |\n"
   ]
  },
  {
   "cell_type": "markdown",
   "metadata": {},
   "source": [
    "## 1.Introduction – Coffee as a Global Urban Perspective "
   ]
  },
  {
   "cell_type": "markdown",
   "metadata": {},
   "source": [
    "Coffee is one of the most widely traded commodities in the world — but also one of the most symbolically charged. From its colonial roots in the highlands of Ethiopia to third-wave cafés in Tokyo and Istanbul, coffee travels across borders not only as a good, but as a practice, a place, and a story.\n",
    "\n",
    "This project examines coffee as both a global flow and a local habit, exploring how trade, branding, and urban life intersect in and through this everyday object. On the international scale, coffee reveals the inequalities embedded in value chains, where production often occurs in the Global South, while most value is captured by corporate branding and consumption in the North (Gereffi et al., 2005). Yet beyond trade, coffee also mediates practices of identity, aspiration, and social differentiation in cities — what Warde (2005) calls “practice systems,” enacted through daily routines and spatial habits.\n",
    "\n",
    "Our website depicts this multi-scale geography through a series of interactive visualisations. We incorporate 3D trade flows, value chain breakdowns, and city cafe map comparisons to tell a story from the macrosystem to the micro space. Guided by theories of consumer culture (Arnould & Thompson, 2005) and informal public life (Oldenburg, 2023), we explore where global coffee flows, who benefits from its flow, and how it is lived, shaped, and visibled in urban forms.\n",
    "\n",
    "By using data-driven narratives, scroll-based staging, and spatialised POI networks, we map not just the movement of coffee but also what it reveals about modern urban life."
   ]
  },
  {
   "cell_type": "markdown",
   "metadata": {},
   "source": [
    "## 2. Global Trade – From Colonial Commodity to Cultural Mediator"
   ]
  },
  {
   "cell_type": "markdown",
   "metadata": {},
   "source": [
    "### 2.1 Who grows, and who drinks?\""
   ]
  },
  {
   "cell_type": "markdown",
   "metadata": {},
   "source": [
    "In this section, we use D3.js and Globe.gl to bring our data to life. D3.js powers the histograms and Sankey diagrams, while Globe.gl creates a 3D interactive globe that lets users explore global coffee trade flows.\n",
    "\n",
    "First, we see that most raw coffee is grown in Global-South countries—Brazil, Vietnam, Colombia, and others—while the biggest importers are in the Global-North, especially the United States, Europe, and Japan.\n",
    "\n",
    "To show how coffee beans move, we built an animated “fly-line” map. It reveals, for example, that Colombian beans mostly go to the U.S., Indonesian beans feed European markets, and Brazil supplies both regions. Once those green beans arrive in consuming countries, they’re roasted and turned into products (think Nestlé or Lavazza). Those finished goods then either stay local or move on to neighboring markets—Germany to France, the U.S. to Canada, and so on.\n",
    "\n",
    "An interesting pattern appears when you zoom in on European trade data: some countries import a flood of green beans but then export a hefty batch of roasted coffee. That tells you immediately who’s built a robust coffee-processing industry. And here’s a neat detail: roasted beans weigh less than their unroasted counterparts but sell for much more per kilogram, showing that roasting and branding are where the real extra value lies."
   ]
  },
  {
   "cell_type": "markdown",
   "metadata": {},
   "source": [
    "### 2.2 Who makes the money?"
   ]
  },
  {
   "cell_type": "markdown",
   "metadata": {},
   "source": [
    "The Global Value Chain (GVC) framework shows how every step—from growing and processing to roasting and retail—adds value to a product. But the gains aren’t shared equally. In coffee, most of the profit sits with roasters, distributors, and big brands, while farmers see only a tiny slice.\n",
    "\n",
    "To make this clear, we created a Sankey diagram tracking how the price of one cup of coffee in Germany is split across Brazil’s and Colombia’s value chains. Hover over each flow to see volume and cash direction. The underlying study found that only about 4% of what you pay reaches the farm. On average, a farmer gets around €0.41 per kilogram of green beans, while the rest of your money goes to roasters, manufacturers, retailers—and hefty VAT and other taxes.\n",
    "\n",
    "This uneven split highlights a core challenge of GVCs: without fair-trade schemes, cooperatives, or other interventions, farmers remain locked into low-margin stages. They supply raw materials but lack the capital, technology, and market access to move “up the chain” into processing or branding—where the juicy profits hide."
   ]
  },
  {
   "cell_type": "markdown",
   "metadata": {},
   "source": [
    "### 2.3 Consumption is culture, too."
   ]
  },
  {
   "cell_type": "markdown",
   "metadata": {},
   "source": [
    "Bourdieu’s symbolic capital theory tells us that prestige and social recognition—what he calls “symbolic capital”—are just as valuable as money. It’s not just owning a fancy watch or driving a jet; even something as ordinary as a cup of coffee can carry status.\n",
    "\n",
    "We built an interactive chart showing coffee habits around the world. You can switch between total national consumption and per capita figures, and compare multiple countries at once. The U.S. leads in overall consumption, with Brazil in second—largely thanks to their big populations. But on a per-person basis the picture flips: Luxembourg tops the list at about 5.3 cups per person per day (or roughly 22 kg per year). Meanwhile, Denmark has the highest average price per cup at around $5.40—most of the priciest markets are in developed countries.\n",
    "\n",
    "Next, on our globe view we plotted where big coffee chains got their start. Almost all the heavy hitters—Starbucks from the U.S., Costa Coffee from the U.K., Tim Hortons from Canada—hail from Global North countries. They now operate tens of thousands of cafés worldwide. Coffee-producing nations rarely create brands of similar scale. Even when they do, their café networks tend to be small and local.\n",
    "\n",
    "According to Consumer Culture Theory (Arnould & Thompson, 2005), consumption is a key way people build and express identity. In many developed cities, coffee shops are associated with “creative professionals” and “white-collar” lifestyles. In most producing countries, however, coffee is still seen mainly as a basic drink or export crop—not yet a symbol of urban culture or social prestige. On top of that, lower disposable incomes, less urban infrastructure, and fewer specialty cafés make it harder for local consumers to join the high-end coffee scene. All of this keeps per-capita consumption in the Global South well below Global-North levels.\n"
   ]
  },
  {
   "cell_type": "markdown",
   "metadata": {},
   "source": [
    "## 3. Urban Grounds – Coffee as City Practice\n",
    "### 3.1 Tokyo – Precision and Pause（≈400–450 字）\n",
    "\n",
    "引入东京咖啡文化特征（功能化、仪式感）\n",
    "说明 POI 数据分类（Chain / Independent / Community）\n",
    "描述 Mapbox 图层联动结构（polygon + heatmap + toggle）\n",
    "引用理论：Practice System（Warde）、Third Space（Oldenburg）\n",
    "\n",
    "### Aoyama: Micro-network and Design Culture（嵌入3.1中，≈150–200 字）\n",
    "\n",
    "说明青山作为东京代表区域的理由\n",
    "使用子页面分析 Featured cafés、主轴线（Axis）、Metro buffer 分析\n",
    "体现文化+消费+空间的微观交织\n",
    "\n",
    "### 3.2 Istanbul – Layered Café Histories（≈350–400 字）\n",
    "\n",
    "引入伊斯坦布尔的空间二元性（新旧城区、文化层叠）\n",
    "描述 café 类型变化和街区功能分布的初步发现\n",
    "若尚未完成地图，可以作为概念引导，结合图片+理论\n",
    "可选引用：Bookman / Dolbec et al. 强调品牌与文化的共构过程"
   ]
  },
  {
   "cell_type": "markdown",
   "metadata": {},
   "source": [
    "## 4. Design and Technical Challenges\n",
    "\n",
    "### 4.1 Narrative Structure and Page Architecture\n",
    "\n",
    "解释整体网页结构  \n",
    "页面采用纵向滚动结构（index.html），结合多个跳转子页面（如 `urban_tokyo.html`, `3d_earth.html` 等） \n",
    "顶部导航栏支持快速锚点跳转，右侧拼贴图与左侧地图构成立体信息空间  \n",
    "段落滚动与状态切换（scroll-based staging）控制动画效果与视觉节奏：  \n",
    "首页引入 `coffee-floating`（咖啡豆雨）与 `coffee-halo`（离子扩散） \n",
    "地球视觉切换通过 `.scrolled-*` class 实现 scale 与 fade 效果  "
   ]
  },
  {
   "cell_type": "markdown",
   "metadata": {},
   "source": [
    "### 4.2 Tools and Visualisation Techniques\n",
    "**4.2.1 3D**\n",
    "`Three.js` + `Globe.gl` 实现 3D 飞线地图，支持 arc 动画与点击信息展示`D3.js` 用于柱状图、飞线数据排序与缩放尺度构建。在3d地图层面，我们主要使用globe.gl linbrary 来实现3d地球的可视化效果，比如说飞和分级设色地图。3d地球的信息可视化能力有限，因此我们引入了侧边栏来进行全面的数据展示。在交互方面，用户可以点击globe图层的飞线或者国家，来进一步探索贸易流，品牌等信息。我们还设置了下拉选框，checkbox来允许用户根据自己的需要筛选需要查看的统计条目。  \n",
    "具体而言，我们加载了chathamhouse提供的贸易流数据，并且在此基础上，按照各个国家首都的数据，生成了一组包含经纬度的数据列，以及数据流名称列（型如Brazil-USA）通过读取该数据列，globe.gl可以自动在地球表面画出飞线。飞线的粗细按照贸易流的大小来进行赋值。22\n"
   ]
  },
  {
   "cell_type": "code",
   "execution_count": null,
   "metadata": {},
   "outputs": [],
   "source": [
    "print(\"hello world\")"
   ]
  },
  {
   "cell_type": "markdown",
   "metadata": {},
   "source": [
    "**4.2.2 urban**\n",
    "    \n",
    "`Mapbox GL JS` 用于东京/伊斯坦布尔城市 POI 可视化、KDE 热力图、polygon 图层\n",
    "`Chart.js` 生成行政区内咖啡类型统计图，动态响应交互行为\n",
    "多页面组件通过统一样式（CSS class）与功能脚本（JavaScript module）保持风格与逻辑一致"
   ]
  },
  {
   "cell_type": "code",
   "execution_count": null,
   "metadata": {},
   "outputs": [],
   "source": [
    "print(\"hello world\")"
   ]
  },
  {
   "cell_type": "markdown",
   "metadata": {},
   "source": [
    "### 4.3 Layer Logic and Interaction Design\n",
    "**4.3.1 home page**  \n",
    "\n",
    "texttexttexttexttexttexttexttexttexttexttexttexttexttexttexttexttexttexttexttext  \n",
    "texttexttexttexttexttexttexttexttexttexttexttexttexttexttexttexttexttexttexttext  \n",
    "texttexttexttexttexttexttexttexttexttexttexttexttexttexttexttexttexttexttexttext   \n",
    "\n",
    "texttexttexttexttexttexttexttexttexttexttexttexttexttexttexttexttexttexttexttext  \n",
    "texttexttexttexttexttexttexttexttexttexttexttexttexttexttexttexttexttexttexttext  \n",
    "texttexttexttexttexttexttexttexttexttexttexttexttexttexttexttexttexttexttexttext  \n",
    "\n",
    "**4.3.2 world trade**\n",
    "\n",
    "texttexttexttexttexttexttexttexttexttexttexttexttexttexttexttexttexttexttexttext  \n",
    "texttexttexttexttexttexttexttexttexttexttexttexttexttexttexttexttexttexttexttext  \n",
    "texttexttexttexttexttexttexttexttexttexttexttexttexttexttexttexttexttexttexttext   \n",
    "\n",
    "texttexttexttexttexttexttexttexttexttexttexttexttexttexttexttexttexttexttexttext  \n",
    "texttexttexttexttexttexttexttexttexttexttexttexttexttexttexttexttexttexttexttext  \n",
    "texttexttexttexttexttexttexttexttexttexttexttexttexttexttexttexttexttexttexttext \n",
    "\n",
    "**4.3.3 urban culture**\n",
    "\n",
    "图层联动逻辑：\n",
    "使用 `filter` 实现 POI 分类（Chain / Independent / Community）\n",
    "Polygon 点击后调用 `within` 和 `queryRenderedFeatures` 限定显示范围，并联动统计图与 info-text\n",
    "KDE 热力图层与点图层通过 checkbox 控制可见性并联动切换  \n",
    "\n",
    "组件解耦：\n",
    "所有交互函数模块化封装，使用状态变量（如 `currentPolygonFilter`）隔离逻辑冲突\n",
    "hover、click、reset 等功能均通过 event listener 精准触发、管理"
   ]
  },
  {
   "cell_type": "markdown",
   "metadata": {},
   "source": [
    "### 4.4 Technical Challenges and Solutions\n",
    "\n",
    "texttexttexttexttexttexttexttexttexttexttexttexttexttexttexttexttexttexttexttext  \n",
    "texttexttexttexttexttexttexttexttexttexttexttexttexttexttexttexttexttexttexttext  \n",
    "texttexttexttexttexttexttexttexttexttexttexttexttexttexttexttexttexttexttexttext  \n",
    "\n",
    "texttexttexttexttexttexttexttexttexttexttexttexttexttexttexttexttexttexttexttext  \n",
    "texttexttexttexttexttexttexttexttexttexttexttexttexttexttexttexttexttexttexttext  \n",
    "texttexttexttexttexttexttexttexttexttexttexttexttexttexttexttexttexttexttexttext  "
   ]
  },
  {
   "cell_type": "markdown",
   "metadata": {},
   "source": [
    "**4.4.1 home page**\n",
    "\n",
    "texttexttexttexttexttexttexttexttexttexttexttexttexttexttexttexttexttexttexttext  \n",
    "texttexttexttexttexttexttexttexttexttexttexttexttexttexttexttexttexttexttexttext  \n",
    "texttexttexttexttexttexttexttexttexttexttexttexttexttexttexttexttexttexttexttext  \n",
    "\n",
    "texttexttexttexttexttexttexttexttexttexttexttexttexttexttexttexttexttexttexttext  \n",
    "texttexttexttexttexttexttexttexttexttexttexttexttexttexttexttexttexttexttexttext  \n",
    "texttexttexttexttexttexttexttexttexttexttexttexttexttexttexttexttexttexttexttext  "
   ]
  },
  {
   "cell_type": "markdown",
   "metadata": {},
   "source": [
    "**4.4.2 world trade**\n",
    "\n",
    "1.3d地球的性能问题\n",
    "原本的地球是每一个页面一个地球，十分消耗性能由于html网页的限制，我们的效果包含几万条飞线，这使得加载十分困难，页面展示性能非常差。预加载内容太多，加载时间过长；页面逻辑切换时  \n",
    "解决办法\n",
    "2.代码逻辑问题\n",
    "在part1和part3的直方图部分，数据筛选逻辑十分复杂，逻辑之间相互干扰，经常产生数据缺失问题。  \n",
    "解决-强制重新加载数据，数据集体积较小，产生的性能消耗在可以接受的范围内。\n",
    "3.平台限制，展示效果不佳\n",
    "global.gl 的展示主题主要是3d球体上的可视化，可供数据展示的接口并不丰富。"
   ]
  },
  {
   "cell_type": "markdown",
   "metadata": {},
   "source": [
    "**4.4.3 urban culture**\n",
    "\n",
    "texttexttexttexttexttexttexttexttexttexttexttexttexttexttexttexttexttexttexttext  \n",
    "texttexttexttexttexttexttexttexttexttexttexttexttexttexttexttexttexttexttexttext  \n",
    "texttexttexttexttexttexttexttexttexttexttexttexttexttexttexttexttexttexttexttext  \n",
    "\n",
    "texttexttexttexttexttexttexttexttexttexttexttexttexttexttexttexttexttexttexttext  \n",
    "texttexttexttexttexttexttexttexttexttexttexttexttexttexttexttexttexttexttexttext  \n",
    "texttexttexttexttexttexttexttexttexttexttexttexttexttexttexttexttexttexttexttext  "
   ]
  },
  {
   "cell_type": "markdown",
   "metadata": {},
   "source": [
    "## 5. Conclusion – A Global Network in a Cup\n",
    "\n",
    "总结项目核心发现：咖啡是连接全球与地方的媒介\n",
    "回应问题：咖啡如何体现现代城市节奏与文化结构\n",
    "学术反思：叙事可视化的优势与限制；理论+设计的交叉可能性\n",
    "可延伸方向：加入实时数据、用户参与、城市比较拓展等"
   ]
  },
  {
   "cell_type": "markdown",
   "metadata": {},
   "source": [
    "*[Note: a table that describes the selected variables for analysis and modelling is required - see the example below.]*"
   ]
  },
  {
   "cell_type": "markdown",
   "metadata": {},
   "source": [
    "| Variable                            | Type        | Description                                         | Notes |\n",
    "|-------------------------------------|-------------|-----------------------------------------------------|-------|\n",
    "| Burglary crime rate                 | Numeric     | The burglary rate of MSOAs. Used as dependent var. | ...   |\n",
    "| Temperature                         | Numeric     | The daytime temperature                             | ...  |\n",
    "| Indicator of Inner or Outer London | Categorical | Whether the MSOA is in Inner London                 | ...   |\n",
    "| ...                                | ...         | ...                                                 | ...   |"
   ]
  },
  {
   "cell_type": "markdown",
   "metadata": {},
   "source": [
    "| Variable                            | Type        | Description                                         | Notes |\n",
    "|-------------------------------------|-------------|-----------------------------------------------------|-------|\n",
    "| Burglary crime rate                 | Numeric     | The burglary rate of MSOAs. Used as dependent var. |  &nbsp;     |\n",
    "| Temperature                         | Numeric     | The daytime temperature                             |  &nbsp;     |\n",
    "| Indicator of Inner or Outer London | Categorical | Whether the MSOA is in Inner London                 |    &nbsp;   |"
   ]
  },
  {
   "cell_type": "markdown",
   "metadata": {},
   "source": [
    "## 6. References\n",
    "\n",
    "*见你提供的参考书目格式*"
   ]
  }
 ],
 "metadata": {
  "kernelspec": {
   "display_name": "Python 3",
   "language": "python",
   "name": "python3"
  },
  "language_info": {
   "codemirror_mode": {
    "name": "ipython",
    "version": 3
   },
   "file_extension": ".py",
   "mimetype": "text/x-python",
   "name": "python",
   "nbconvert_exporter": "python",
   "pygments_lexer": "ipython3",
   "version": "3.12.5"
  }
 },
 "nbformat": 4,
 "nbformat_minor": 1
}

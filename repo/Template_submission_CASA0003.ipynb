{
 "cells": [
  {
   "cell_type": "markdown",
   "metadata": {},
   "source": [
    "# Coffee Road: From Commodity to Cultur"
   ]
  },
  {
   "cell_type": "markdown",
   "metadata": {},
   "source": [
    "## 1.Introduction – Coffee as a Global Urban Perspective \n",
    "\n",
    "\n",
    "texttexttexttexttexttexttexttexttexttexttexttexttexttexttexttexttexttexttexttext  \n",
    "texttexttexttexttexttexttexttexttexttexttexttexttexttexttexttexttexttexttexttext\n",
    "texttexttexttexttexttexttexttexttexttexttexttexttexttexttexttexttexttexttexttext  "
   ]
  },
  {
   "cell_type": "markdown",
   "metadata": {},
   "source": [
    "## 2. Global Trade – From Colonial Commodity to Cultural Mediator\n",
    "#### 2.1 Who grows, and who drinks?\n",
    "\n",
    "3D 飞线图展示产地与消费地流向（南产北消）\n",
    "理论嵌入：全球价值链（Gereffi et al. 2005）\n",
    "可视化工具：Globe.gl + D3 arc animation + data hover"
   ]
  },
  {
   "cell_type": "code",
   "execution_count": null,
   "metadata": {},
   "outputs": [],
   "source": [
    "print(\"hello world\")"
   ]
  },
  {
   "cell_type": "markdown",
   "metadata": {},
   "source": [
    "### 2.2 Who makes the money?\n",
    "\n",
    "Sankey 图展示利润分布（农民 vs 品牌）\n",
    "引入 Bourdieu 的“象征资本”与消费等级结构\n",
    "品牌国与消费空间之间的结构性分离  \n",
    "\n",
    "### 2.3 Consumption is culture, too.\n",
    "\n",
    "人均消费地图 + hover 展示国家饮用习惯\n",
    "消费不只是数量，也是社会身份与文化结构的体现（Arnould & Thompson, 2005）"
   ]
  },
  {
   "cell_type": "markdown",
   "metadata": {},
   "source": [
    "## 3. Urban Grounds – Coffee as City Practice\n",
    "### 3.1 Tokyo – Precision and Pause（≈400–450 字）\n",
    "\n",
    "引入东京咖啡文化特征（功能化、仪式感）\n",
    "说明 POI 数据分类（Chain / Independent / Community）\n",
    "描述 Mapbox 图层联动结构（polygon + heatmap + toggle）\n",
    "引用理论：Practice System（Warde）、Third Space（Oldenburg）\n",
    "\n",
    "### Aoyama: Micro-network and Design Culture（嵌入3.1中，≈150–200 字）\n",
    "\n",
    "说明青山作为东京代表区域的理由\n",
    "使用子页面分析 Featured cafés、主轴线（Axis）、Metro buffer 分析\n",
    "体现文化+消费+空间的微观交织\n",
    "\n",
    "### 3.2 Istanbul – Layered Café Histories（≈350–400 字）\n",
    "\n",
    "引入伊斯坦布尔的空间二元性（新旧城区、文化层叠）\n",
    "描述 café 类型变化和街区功能分布的初步发现\n",
    "若尚未完成地图，可以作为概念引导，结合图片+理论\n",
    "可选引用：Bookman / Dolbec et al. 强调品牌与文化的共构过程"
   ]
  },
  {
   "cell_type": "markdown",
   "metadata": {},
   "source": [
    "## 4. Design and Technical Challenges\n",
    "\n",
    "### 4.1 Narrative Structure and Page Architecture\n",
    "\n",
    "解释整体网页结构  \n",
    "页面采用纵向滚动结构（index.html），结合多个跳转子页面（如 `urban_tokyo.html`, `3d_earth.html` 等） \n",
    "顶部导航栏支持快速锚点跳转，右侧拼贴图与左侧地图构成立体信息空间  \n",
    "段落滚动与状态切换（scroll-based staging）控制动画效果与视觉节奏：  \n",
    "首页引入 `coffee-floating`（咖啡豆雨）与 `coffee-halo`（离子扩散） \n",
    "地球视觉切换通过 `.scrolled-*` class 实现 scale 与 fade 效果  "
   ]
  },
  {
   "cell_type": "markdown",
   "metadata": {},
   "source": [
    "### 4.2 Tools and Visualisation Techniques\n",
    "**4.2.1 3D**\n",
    "    \n",
    "`Three.js` + `Globe.gl` 实现 3D 飞线地图，支持 arc 动画与点击信息展示\n",
    "`D3.js` 用于柱状图、飞线数据排序与缩放尺度构建"
   ]
  },
  {
   "cell_type": "code",
   "execution_count": null,
   "metadata": {},
   "outputs": [],
   "source": [
    "print(\"hello world\")"
   ]
  },
  {
   "cell_type": "markdown",
   "metadata": {},
   "source": [
    "**4.2.2 urban**\n",
    "    \n",
    "`Mapbox GL JS` 用于东京/伊斯坦布尔城市 POI 可视化、KDE 热力图、polygon 图层\n",
    "`Chart.js` 生成行政区内咖啡类型统计图，动态响应交互行为\n",
    "多页面组件通过统一样式（CSS class）与功能脚本（JavaScript module）保持风格与逻辑一致"
   ]
  },
  {
   "cell_type": "code",
   "execution_count": null,
   "metadata": {},
   "outputs": [],
   "source": [
    "print(\"hello world\")"
   ]
  },
  {
   "cell_type": "markdown",
   "metadata": {},
   "source": [
    "### 4.3 Layer Logic and Interaction Design\n",
    "**4.3.1 home page**  \n",
    "\n",
    "texttexttexttexttexttexttexttexttexttexttexttexttexttexttexttexttexttexttexttext  \n",
    "texttexttexttexttexttexttexttexttexttexttexttexttexttexttexttexttexttexttexttext\n",
    "texttexttexttexttexttexttexttexttexttexttexttexttexttexttexttexttexttexttexttext  \n",
    "\n",
    "**4.3.2 world trade**\n",
    "\n",
    "texttexttexttexttexttexttexttexttexttexttexttexttexttexttexttexttexttexttexttext  \n",
    "texttexttexttexttexttexttexttexttexttexttexttexttexttexttexttexttexttexttexttext\n",
    "texttexttexttexttexttexttexttexttexttexttexttexttexttexttexttexttexttexttexttext  \n",
    "\n",
    "**4.3.3 urban culture**\n",
    "\n",
    "图层联动逻辑：\n",
    "使用 `filter` 实现 POI 分类（Chain / Independent / Community）\n",
    "Polygon 点击后调用 `within` 和 `queryRenderedFeatures` 限定显示范围，并联动统计图与 info-text\n",
    "KDE 热力图层与点图层通过 checkbox 控制可见性并联动切换\n",
    "组件解耦：\n",
    "所有交互函数模块化封装，使用状态变量（如 `currentPolygonFilter`）隔离逻辑冲突\n",
    "hover、click、reset 等功能均通过 event listener 精准触发、管理"
   ]
  },
  {
   "cell_type": "markdown",
   "metadata": {},
   "source": [
    "### 4.4 Technical Challenges and Solutions\n",
    "\n",
    "texttexttexttexttexttexttexttexttexttexttexttexttexttexttexttexttexttexttexttext  \n",
    "texttexttexttexttexttexttexttexttexttexttexttexttexttexttexttexttexttexttexttext\n",
    "texttexttexttexttexttexttexttexttexttexttexttexttexttexttexttexttexttexttexttext  "
   ]
  },
  {
   "cell_type": "markdown",
   "metadata": {},
   "source": [
    "**4.4.1 home page**\n",
    "\n",
    "texttexttexttexttexttexttexttexttexttexttexttexttexttexttexttexttexttexttexttext  \n",
    "texttexttexttexttexttexttexttexttexttexttexttexttexttexttexttexttexttexttexttext\n",
    "texttexttexttexttexttexttexttexttexttexttexttexttexttexttexttexttexttexttexttext  "
   ]
  },
  {
   "cell_type": "markdown",
   "metadata": {},
   "source": [
    "**4.4.2 world trade**\n",
    "\n",
    "texttexttexttexttexttexttexttexttexttexttexttexttexttexttexttexttexttexttexttext  \n",
    "texttexttexttexttexttexttexttexttexttexttexttexttexttexttexttexttexttexttexttext\n",
    "texttexttexttexttexttexttexttexttexttexttexttexttexttexttexttexttexttexttexttext  "
   ]
  },
  {
   "cell_type": "markdown",
   "metadata": {},
   "source": [
    "**4.4.3 urban culture**\n",
    "\n",
    "texttexttexttexttexttexttexttexttexttexttexttexttexttexttexttexttexttexttexttext  \n",
    "texttexttexttexttexttexttexttexttexttexttexttexttexttexttexttexttexttexttexttext\n",
    "texttexttexttexttexttexttexttexttexttexttexttexttexttexttexttexttexttexttexttext  "
   ]
  },
  {
   "cell_type": "markdown",
   "metadata": {},
   "source": [
    "## 5. Conclusion – A Global Network in a Cup\n",
    "\n",
    "总结项目核心发现：咖啡是连接全球与地方的媒介\n",
    "回应问题：咖啡如何体现现代城市节奏与文化结构\n",
    "学术反思：叙事可视化的优势与限制；理论+设计的交叉可能性\n",
    "可延伸方向：加入实时数据、用户参与、城市比较拓展等"
   ]
  },
  {
   "cell_type": "markdown",
   "metadata": {},
   "source": [
    "*[Note: a table that describes the selected variables for analysis and modelling is required - see the example below.]*"
   ]
  },
  {
   "cell_type": "markdown",
   "metadata": {},
   "source": [
    "| Variable                            | Type        | Description                                         | Notes |\n",
    "|-------------------------------------|-------------|-----------------------------------------------------|-------|\n",
    "| Burglary crime rate                 | Numeric     | The burglary rate of MSOAs. Used as dependent var. | ...   |\n",
    "| Temperature                         | Numeric     | The daytime temperature                             | ...  |\n",
    "| Indicator of Inner or Outer London | Categorical | Whether the MSOA is in Inner London                 | ...   |\n",
    "| ...                                | ...         | ...                                                 | ...   |"
   ]
  },
  {
   "cell_type": "markdown",
   "metadata": {},
   "source": [
    "| Variable                            | Type        | Description                                         | Notes |\n",
    "|-------------------------------------|-------------|-----------------------------------------------------|-------|\n",
    "| Burglary crime rate                 | Numeric     | The burglary rate of MSOAs. Used as dependent var. |  &nbsp;     |\n",
    "| Temperature                         | Numeric     | The daytime temperature                             |  &nbsp;     |\n",
    "| Indicator of Inner or Outer London | Categorical | Whether the MSOA is in Inner London                 |    &nbsp;   |"
   ]
  },
  {
   "cell_type": "markdown",
   "metadata": {},
   "source": [
    "## 6. Individual Contributions\n",
    "\n",
    "[[ go back to the top ]](#Table-of-contents)"
   ]
  },
  {
   "cell_type": "code",
   "execution_count": null,
   "metadata": {},
   "outputs": [],
   "source": [
    "print(\"hello world\")"
   ]
  },
  {
   "cell_type": "markdown",
   "metadata": {},
   "source": [
    "## 7. References\n",
    "\n",
    "*见你提供的参考书目格式*"
   ]
  }
 ],
 "metadata": {
  "kernelspec": {
   "display_name": "Python 3",
   "language": "python",
   "name": "python3"
  },
  "language_info": {
   "codemirror_mode": {
    "name": "ipython",
    "version": 3
   },
   "file_extension": ".py",
   "mimetype": "text/x-python",
   "name": "python",
   "nbconvert_exporter": "python",
   "pygments_lexer": "ipython3",
   "version": "3.12.5"
  }
 },
 "nbformat": 4,
 "nbformat_minor": 1
}

{
 "cells": [
  {
   "cell_type": "code",
   "execution_count": null,
   "id": "b4754009",
   "metadata": {
    "vscode": {
     "languageId": "plaintext"
    }
   },
   "outputs": [],
   "source": [
    "import osmnx as ox # OSMnx is a Python package to get access to geospatial features from OpenStreetMap. (Boeing, G. 2024)\n",
    "\n",
    "## 6. POI Counts: \n",
    "# Select the number of transportation and shops in the area, \n",
    "# as they might act as crime attractors and influence crime opportunities.\n",
    "\n",
    "# read lsoa 2011 boundaries\n",
    "lsoa_gdf = gpd.read_file(\"https://raw.githubusercontent.com/meimao76/006assessment/refs/heads/master/data/statistical-gis-boundaries-london/statistical-gis-boundaries-london/ESRI/LSOA_2011_London_gen_MHW.shp\")\n",
    "\n",
    "# get poi data from open street map\n",
    "# code from osmnx website\n",
    "place = \"London, UK\"\n",
    "tags1 = {\"railway\": \"station\", \"highway\": \"bus_stop\"}  # subway stations and bus stations\n",
    "tags2 = {\"shop\": True } # shops\n",
    "gdf1 = ox.features_from_place(place, tags1)\n",
    "gdf2 = ox.features_from_place(place, tags2)\n",
    "\n",
    "# set the same crs\n",
    "tran_poi_gdf = gdf1.to_crs(lsoa_gdf.crs)\n",
    "shop_poi_gdf = gdf2.to_crs(lsoa_gdf.crs)\n",
    "\n",
    "# change all types of geospatial features into points\n",
    "shop_poi_gdf[\"geometry\"] = shop_poi_gdf.geometry.centroid\n",
    "\n",
    "# join the transportation points with the lsoas\n",
    "joined_tran = gpd.sjoin(tran_poi_gdf, lsoa_gdf, how='inner', predicate='within')\n",
    "# counts the points within each lsoa\n",
    "tran_poi_count = joined_tran.groupby('LSOA11CD').size().reset_index(name='tran_poi_count')\n",
    "tran_poi_count = tran_poi_count.rename(columns={\"LSOA11CD\": \"LSOA Code\"})\n",
    "\n",
    "# same with the shop points\n",
    "joined_shop = gpd.sjoin(shop_poi_gdf, lsoa_gdf, how='inner', predicate='within')\n",
    "shop_poi_count = joined_shop.groupby('LSOA11CD').size().reset_index(name='shop_poi_count')\n",
    "shop_poi_count = shop_poi_count.rename(columns={\"LSOA11CD\": \"LSOA Code\"})\n",
    "\n",
    "print(tran_poi_count.head(2))\n",
    "print(shop_poi_count.head(2))"
   ]
  }
 ],
 "metadata": {
  "language_info": {
   "name": "python"
  }
 },
 "nbformat": 4,
 "nbformat_minor": 5
}
